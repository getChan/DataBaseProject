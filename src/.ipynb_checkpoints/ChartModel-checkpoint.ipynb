{
 "cells": [
  {
   "cell_type": "markdown",
   "metadata": {},
   "source": [
    "# 속성 추출\n",
    "1. 차트 진입후 5위 이내까지 진입한 일수\n",
    "2. 해당 곡 아티스트의 다른 곡이 차트에 진입한 일수\n",
    "3. 차트 진입 후 5위 이내까지 일간 랭킹 상승 평균치\n",
    "4. and more..."
   ]
  },
  {
   "cell_type": "code",
   "execution_count": 1,
   "metadata": {},
   "outputs": [],
   "source": [
    "from getAttribute import dbQuery, chartInDays, rankIncreaseMean, rankInDays"
   ]
  },
  {
   "cell_type": "markdown",
   "metadata": {},
   "source": [
    "# 신경망 코드"
   ]
  },
  {
   "cell_type": "code",
   "execution_count": 2,
   "metadata": {},
   "outputs": [],
   "source": [
    "import tensorflow as tf\n",
    "import numpy as np"
   ]
  },
  {
   "cell_type": "markdown",
   "metadata": {},
   "source": [
    "## Train dataset 추출\n",
    "- 그날처럼(장덕철)\n",
    "- WayBackHome(숀), 지나오다(닐로)\n",
    "- WayBackHome(숀), 지나오다(닐로) \n",
    "<br/>를 조작된 데이터로 설정"
   ]
  },
  {
   "cell_type": "code",
   "execution_count": 3,
   "metadata": {},
   "outputs": [],
   "source": [
    "geniedf = dbQuery(\"SELECT * FROM zuzak.genie where YYMMDD = 180105 and ranking <= 15\")\n",
    "bugsdf = dbQuery(\"SELECT * FROM zuzak.bugs where YYMMDD = 180710 and ranking <= 15\")\n",
    "mnetdf = dbQuery(\"SELECT * FROM zuzak.mnet where YYMMDD = 180701 and ranking <= 15\")\n",
    "\n",
    "# 데이터프레임 합치기\n",
    "df = geniedf.append(bugsdf)\n",
    "df = df.append(mnetdf)\n",
    "df.reset_index(inplace=True, drop=True)"
   ]
  },
  {
   "cell_type": "markdown",
   "metadata": {},
   "source": [
    "### 레이블 설정"
   ]
  },
  {
   "cell_type": "code",
   "execution_count": 4,
   "metadata": {},
   "outputs": [],
   "source": [
    "# 조작음원 = 1\n",
    "# 여기선 지나오다, way back home 조작으로 가정\n",
    "tmp = df[(df['title']=='WayBackHome') | (df['title']=='지나오다') | (df['title']=='그날처럼')]\n",
    "labels = np.zeros([45, 1])\n",
    "labels[tmp.index] = 1"
   ]
  },
  {
   "cell_type": "markdown",
   "metadata": {},
   "source": [
    "### 속성 추출 및 정규화\n",
    "- 속성은 genie 차트에서 추출함"
   ]
  },
  {
   "cell_type": "code",
   "execution_count": 6,
   "metadata": {},
   "outputs": [],
   "source": [
    "# 이전에 차트에 든 일수\n",
    "chartindays = np.fromiter(map(chartInDays, df['title'], df['artist'], ['genie']*len(df)), np.int32)"
   ]
  },
  {
   "cell_type": "code",
   "execution_count": 7,
   "metadata": {},
   "outputs": [],
   "source": [
    "# 랭킹 상승 평균값\n",
    "rankimean = np.fromiter(map(rankIncreaseMean, df['title'], ['genie']*len(df)), np.int32)\n",
    "rankimean = np.array((rankimean+1) / (chartindays+1))"
   ]
  },
  {
   "cell_type": "code",
   "execution_count": 8,
   "metadata": {},
   "outputs": [],
   "source": [
    "# top5 진입 일수\n",
    "rankindays = np.fromiter(map(rankInDays, df['title'], ['genie']*len(df)), np.int32)\n",
    "rankindays = np.array((rankindays + 1) / (chartindays+1))"
   ]
  },
  {
   "cell_type": "code",
   "execution_count": 9,
   "metadata": {
    "scrolled": true
   },
   "outputs": [
    {
     "data": {
      "text/plain": [
       "array([0.01      , 0.9988475 , 0.505     , 0.01      , 0.99938547,\n",
       "       0.99876712, 0.01      , 0.01      , 0.99907649, 0.505     ,\n",
       "       0.98862069, 0.505     , 0.99936498, 0.97893617, 0.99932099,\n",
       "       0.99953236, 0.01      , 0.99927843, 0.99543779, 0.99877778,\n",
       "       0.99927843, 0.01      , 0.99973243, 0.99707965, 0.99810707,\n",
       "       0.99922535, 0.99545872, 0.99888136, 0.01      , 0.01      ,\n",
       "       0.01      , 0.99927843, 0.99922535, 0.99810707, 0.98848837,\n",
       "       0.99927843, 0.99973243, 0.99706231, 0.01      , 0.99933691,\n",
       "       0.01      , 0.99440678, 0.99326531, 0.01      , 0.01      ])"
      ]
     },
     "execution_count": 9,
     "metadata": {},
     "output_type": "execute_result"
    }
   ],
   "source": [
    "# 데이터 정규화\n",
    "chartindays = np.array((chartindays+0.01) / (chartindays+1))\n",
    "chartindays"
   ]
  },
  {
   "cell_type": "markdown",
   "metadata": {},
   "source": [
    "### 속성 합치기"
   ]
  },
  {
   "cell_type": "code",
   "execution_count": 10,
   "metadata": {},
   "outputs": [
    {
     "data": {
      "text/plain": [
       "array([[1.00000000e-02, 1.00000000e+00, 3.50000000e+01],\n",
       "       [9.98847497e-01, 1.11757858e-01, 2.32828871e-03],\n",
       "       [5.05000000e-01, 1.50000000e+00, 2.25000000e+01],\n",
       "       [1.00000000e-02, 3.00000000e+00, 3.30000000e+01],\n",
       "       [9.99385475e-01, 6.20732464e-02, 1.24146493e-03],\n",
       "       [9.98767123e-01, 1.74346202e-02, 3.73599004e-03],\n",
       "       [1.00000000e-02, 1.00000000e+00, 5.40000000e+01],\n",
       "       [1.00000000e-02, 2.00000000e+00, 6.80000000e+01],\n",
       "       [9.99076493e-01, 9.04850746e-02, 1.86567164e-03],\n",
       "       [5.05000000e-01, 1.00000000e+00, 2.25000000e+01],\n",
       "       [9.88620690e-01, 1.14942529e+00, 2.29885057e-02],\n",
       "       [5.05000000e-01, 5.00000000e+01, 1.00000000e+00],\n",
       "       [9.99364978e-01, 6.41436818e-02, 1.28287364e-03],\n",
       "       [9.78936170e-01, 2.08510638e+00, 4.25531915e-02],\n",
       "       [9.99320988e-01, 6.79012346e-02, 1.37174211e-03],\n",
       "       [9.99532357e-01, 4.67642891e-02, 9.44733113e-04],\n",
       "       [1.00000000e-02, 1.40000000e+01, 8.00000000e+00],\n",
       "       [9.99278426e-01, 7.28862974e-02, 1.45772595e-03],\n",
       "       [9.95437788e-01, 9.21658986e-03, 3.22580645e-02],\n",
       "       [9.98777778e-01, 1.22222222e-01, 2.46913580e-03],\n",
       "       [9.99278426e-01, 7.14285714e-02, 1.45772595e-03],\n",
       "       [1.00000000e-02, 1.00000000e+00, 1.00000000e+00],\n",
       "       [9.99732432e-01, 2.70270270e-02, 5.40540541e-04],\n",
       "       [9.97079646e-01, 2.94985251e-03, 2.94985251e-03],\n",
       "       [9.98107075e-01, 1.85468451e-01, 3.82409178e-03],\n",
       "       [9.99225352e-01, 7.74647887e-02, 1.56494523e-03],\n",
       "       [9.95458716e-01, 4.58715596e-03, 4.58715596e-03],\n",
       "       [9.98881356e-01, 1.12994350e-03, 1.12994350e-03],\n",
       "       [1.00000000e-02, 2.00000000e+00, 9.60000000e+01],\n",
       "       [1.00000000e-02, 9.80000000e+01, 2.00000000e+00],\n",
       "       [1.00000000e-02, 1.00000000e+00, 1.00000000e+00],\n",
       "       [9.99278426e-01, 7.28862974e-02, 1.45772595e-03],\n",
       "       [9.99225352e-01, 7.74647887e-02, 1.56494523e-03],\n",
       "       [9.98107075e-01, 1.85468451e-01, 3.82409178e-03],\n",
       "       [9.88488372e-01, 1.16279070e-02, 1.16279070e-02],\n",
       "       [9.99278426e-01, 7.14285714e-02, 1.45772595e-03],\n",
       "       [9.99732432e-01, 2.70270270e-02, 5.40540541e-04],\n",
       "       [9.97062315e-01, 2.90801187e-01, 5.93471810e-03],\n",
       "       [1.00000000e-02, 1.00000000e+02, 2.00000000e+00],\n",
       "       [9.99336906e-01, 6.69792364e-02, 1.33958473e-03],\n",
       "       [1.00000000e-02, 1.00000000e+00, 1.00000000e+00],\n",
       "       [9.94406780e-01, 5.64971751e-03, 5.64971751e-03],\n",
       "       [9.93265306e-01, 6.80272109e-03, 6.80272109e-03],\n",
       "       [1.00000000e-02, 1.00000000e+00, 1.00000000e+00],\n",
       "       [1.00000000e-02, 7.00000000e+00, 1.50000000e+01]])"
      ]
     },
     "execution_count": 10,
     "metadata": {},
     "output_type": "execute_result"
    }
   ],
   "source": [
    "train_data = np.array([chartindays, rankimean, rankindays]).T\n",
    "train_data"
   ]
  },
  {
   "cell_type": "markdown",
   "metadata": {},
   "source": [
    "# 신경망 학습 "
   ]
  },
  {
   "cell_type": "code",
   "execution_count": 181,
   "metadata": {
    "scrolled": true
   },
   "outputs": [
    {
     "name": "stdout",
     "output_type": "stream",
     "text": [
      "INFO:tensorflow:Restoring parameters from ./model\\dnn.ckpt\n",
      "예측값: [[9.5636570e-01]\n",
      " [3.4701756e-08]\n",
      " [2.8884821e-03]\n",
      " [2.7722120e-02]\n",
      " [3.3975891e-08]\n",
      " [3.3721840e-08]\n",
      " [3.1576533e-02]\n",
      " [9.2012547e-03]\n",
      " [3.4368718e-08]\n",
      " [7.5380998e-03]\n",
      " [1.4632099e-07]\n",
      " [2.0843167e-04]\n",
      " [3.4002081e-08]\n",
      " [2.6838215e-06]\n",
      " [3.4051730e-08]\n",
      " [3.3793505e-08]\n",
      " [9.8995918e-01]\n",
      " [3.4116155e-08]\n",
      " [3.4674894e-08]\n",
      " [3.4868616e-08]\n",
      " [3.4099628e-08]\n",
      " [2.3128474e-03]\n",
      " [3.3582875e-08]\n",
      " [3.3908950e-08]\n",
      " [3.6097610e-08]\n",
      " [3.4179656e-08]\n",
      " [3.4225980e-08]\n",
      " [3.3560593e-08]\n",
      " [4.8698247e-03]\n",
      " [1.8607525e-04]\n",
      " [2.3128474e-03]\n",
      " [3.4116155e-08]\n",
      " [3.4179656e-08]\n",
      " [3.6097610e-08]\n",
      " [3.5627487e-08]\n",
      " [3.4099628e-08]\n",
      " [3.3582875e-08]\n",
      " [3.8769723e-08]\n",
      " [1.8494744e-04]\n",
      " [3.4038482e-08]\n",
      " [2.3128474e-03]\n",
      " [3.4433413e-08]\n",
      " [3.4660147e-08]\n",
      " [2.3128474e-03]\n",
      " [9.9557883e-01]]\n",
      "실제값: [[1.]\n",
      " [0.]\n",
      " [0.]\n",
      " [0.]\n",
      " [0.]\n",
      " [0.]\n",
      " [0.]\n",
      " [0.]\n",
      " [0.]\n",
      " [0.]\n",
      " [0.]\n",
      " [0.]\n",
      " [0.]\n",
      " [0.]\n",
      " [0.]\n",
      " [0.]\n",
      " [1.]\n",
      " [0.]\n",
      " [0.]\n",
      " [0.]\n",
      " [0.]\n",
      " [0.]\n",
      " [0.]\n",
      " [0.]\n",
      " [0.]\n",
      " [0.]\n",
      " [0.]\n",
      " [0.]\n",
      " [0.]\n",
      " [0.]\n",
      " [0.]\n",
      " [0.]\n",
      " [0.]\n",
      " [0.]\n",
      " [0.]\n",
      " [0.]\n",
      " [0.]\n",
      " [0.]\n",
      " [0.]\n",
      " [0.]\n",
      " [0.]\n",
      " [0.]\n",
      " [0.]\n",
      " [0.]\n",
      " [1.]]\n"
     ]
    }
   ],
   "source": [
    "tf.reset_default_graph()\n",
    "# [chartindays, rankimean, rankindays]\n",
    "x_data = train_data\n",
    "y_data = labels\n",
    "\n",
    "#########\n",
    "# 신경망 모델 구성\n",
    "######\n",
    "X = tf.placeholder(tf.float32)\n",
    "Y = tf.placeholder(tf.float32)\n",
    "\n",
    "# W = tf.Variable(tf.random_uniform([3, 1], -1., 1.))\n",
    "W1 = tf.Variable(tf.random_normal([3, 50]))\n",
    "b1 = tf.Variable(tf.random_normal([50]))\n",
    "L1 = tf.nn.sigmoid(tf.add(tf.matmul(X, W1), b1))\n",
    "\n",
    "W2 = tf.Variable(tf.random_normal([50, 1]))\n",
    "b2 = tf.Variable(tf.random_normal([1]))\n",
    "L2 = tf.nn.sigmoid(tf.add(tf.matmul(L1, W2), b2))\n",
    "\n",
    "model = L2\n",
    "\n",
    "cost = tf.reduce_mean(tf.square(model-Y))\n",
    "optimizer = tf.train.AdamOptimizer(learning_rate=0.02)\n",
    "train_op = optimizer.minimize(cost)\n",
    "\n",
    "# 신경망 모델 학습\n",
    "                      \n",
    "sess = tf.Session()\n",
    "saver = tf.train.Saver(tf.global_variables())\n",
    "                      \n",
    "ckpt = tf.train.get_checkpoint_state('./model')\n",
    "if ckpt and tf.train.checkpoint_exists(ckpt.model_checkpoint_path):\n",
    "    saver.restore(sess, ckpt.model_checkpoint_path)\n",
    "else:\n",
    "    sess.run(tf.global_variables_initializer())\n",
    "    for step in range(1000):\n",
    "        sess.run(train_op, feed_dict={X: x_data, Y: y_data})\n",
    "        print(step + 1, sess.run(cost, feed_dict={X: x_data, Y: y_data}))    \n",
    "\n",
    "prediction = model\n",
    "target = Y\n",
    "print('예측값:', sess.run(prediction, feed_dict={X: x_data}))\n",
    "print('실제값:', sess.run(target, feed_dict={Y: y_data}))"
   ]
  },
  {
   "cell_type": "markdown",
   "metadata": {},
   "source": [
    "# 테스트 데이터\n",
    "- bugs 차트에서의 WayBackHome, 지나오다에 대해 테스트\n",
    "- 훈련 데이터는 genie차트에 대해 훈련함"
   ]
  },
  {
   "cell_type": "code",
   "execution_count": 172,
   "metadata": {},
   "outputs": [],
   "source": [
    "df = dbQuery(\"SELECT * FROM zuzak.genie where ranking <=11 and YYMMDD = 180728\")"
   ]
  },
  {
   "cell_type": "markdown",
   "metadata": {},
   "source": [
    "### 데이터 정규화"
   ]
  },
  {
   "cell_type": "code",
   "execution_count": 175,
   "metadata": {},
   "outputs": [],
   "source": [
    "# 이전에 차트에 든 일수\n",
    "chartindays = np.fromiter(map(chartInDays, df['title'], df['artist'], ['mnet']*len(df)), np.int32)\n",
    "# 랭킹 상승 평균값\n",
    "rankimean = np.fromiter(map(rankIncreaseMean, df['title'], ['mnet']*len(df)), np.int32)\n",
    "rankimean = np.array((rankimean+0.01) / (chartindays+1))\n",
    "# top5 진입 일수\n",
    "rankindays = np.fromiter(map(rankInDays, df['title'], ['mnet']*len(df)), np.int32)\n",
    "rankindays = np.array((rankindays + 0.01) / (chartindays+1))\n",
    "# 정규화\n",
    "chartindays = np.array((chartindays+0.01) / (chartindays+1))\n",
    "# 데이터 합치기\n",
    "test_data = np.array([chartindays, rankimean, rankindays]).T"
   ]
  },
  {
   "cell_type": "markdown",
   "metadata": {},
   "source": [
    "### 테스트"
   ]
  },
  {
   "cell_type": "code",
   "execution_count": 176,
   "metadata": {
    "scrolled": true
   },
   "outputs": [
    {
     "data": {
      "text/plain": [
       "array([[1.00000000e-02, 1.00100000e+01, 1.00100000e+01],\n",
       "       [9.99187192e-01, 8.12889984e-02, 8.29228243e-04],\n",
       "       [9.99548564e-01, 4.46922025e-02, 4.60556316e-04],\n",
       "       [9.99270987e-01, 7.21723122e-02, 7.43740795e-04],\n",
       "       [9.95975610e-01, 1.22357724e-02, 1.63008130e-02],\n",
       "       [9.99713542e-01, 2.86487269e-02, 2.92245370e-04],\n",
       "       [9.97670588e-01, 2.28258824e-01, 2.37647059e-03],\n",
       "       [9.99187192e-01, 7.96469622e-02, 8.29228243e-04],\n",
       "       [9.01000000e-01, 6.01000000e-01, 9.01000000e-01],\n",
       "       [9.98096154e-01, 1.15576923e-02, 3.86538462e-03],\n",
       "       [1.00000000e-02, 5.01000000e+00, 1.50100000e+01]])"
      ]
     },
     "execution_count": 176,
     "metadata": {},
     "output_type": "execute_result"
    }
   ],
   "source": [
    "test_data"
   ]
  },
  {
   "cell_type": "code",
   "execution_count": 177,
   "metadata": {},
   "outputs": [
    {
     "name": "stdout",
     "output_type": "stream",
     "text": [
      "예측값: [[9.8925650e-01]\n",
      " [3.4221603e-08]\n",
      " [3.3764771e-08]\n",
      " [3.4099500e-08]\n",
      " [3.4354887e-08]\n",
      " [3.3595626e-08]\n",
      " [3.7053084e-08]\n",
      " [3.4202028e-08]\n",
      " [3.6728471e-07]\n",
      " [3.3799438e-08]\n",
      " [9.1404313e-01]]\n"
     ]
    }
   ],
   "source": [
    "x_data = test_data\n",
    "\n",
    "result = sess.run(prediction, feed_dict={X: x_data})\n",
    "result = result.astype(np.float32)\n",
    "\n",
    "print('예측값:', result)"
   ]
  },
  {
   "cell_type": "code",
   "execution_count": 178,
   "metadata": {
    "scrolled": true
   },
   "outputs": [
    {
     "data": {
      "text/html": [
       "<div>\n",
       "<style scoped>\n",
       "    .dataframe tbody tr th:only-of-type {\n",
       "        vertical-align: middle;\n",
       "    }\n",
       "\n",
       "    .dataframe tbody tr th {\n",
       "        vertical-align: top;\n",
       "    }\n",
       "\n",
       "    .dataframe thead th {\n",
       "        text-align: right;\n",
       "    }\n",
       "</style>\n",
       "<table border=\"1\" class=\"dataframe\">\n",
       "  <thead>\n",
       "    <tr style=\"text-align: right;\">\n",
       "      <th></th>\n",
       "      <th>YYMMDD</th>\n",
       "      <th>ranking</th>\n",
       "      <th>title</th>\n",
       "      <th>artist</th>\n",
       "      <th>prediction</th>\n",
       "    </tr>\n",
       "  </thead>\n",
       "  <tbody>\n",
       "    <tr>\n",
       "      <th>0</th>\n",
       "      <td>180728</td>\n",
       "      <td>1</td>\n",
       "      <td>WayBackHome</td>\n",
       "      <td>숀(SHAUN)</td>\n",
       "      <td>9.892565e-01</td>\n",
       "    </tr>\n",
       "    <tr>\n",
       "      <th>1</th>\n",
       "      <td>180728</td>\n",
       "      <td>2</td>\n",
       "      <td>뚜두뚜두(DDU-DUDDU-DU)</td>\n",
       "      <td>BLACKPINK</td>\n",
       "      <td>3.422160e-08</td>\n",
       "    </tr>\n",
       "    <tr>\n",
       "      <th>2</th>\n",
       "      <td>180728</td>\n",
       "      <td>3</td>\n",
       "      <td>DanceTheNightAway</td>\n",
       "      <td>TWICE(트와이스)</td>\n",
       "      <td>3.376477e-08</td>\n",
       "    </tr>\n",
       "    <tr>\n",
       "      <th>3</th>\n",
       "      <td>180728</td>\n",
       "      <td>4</td>\n",
       "      <td>너나해(Egotistic)</td>\n",
       "      <td>마마무(Mamamoo)</td>\n",
       "      <td>3.409950e-08</td>\n",
       "    </tr>\n",
       "    <tr>\n",
       "      <th>4</th>\n",
       "      <td>180728</td>\n",
       "      <td>5</td>\n",
       "      <td>1도없어</td>\n",
       "      <td>Apink(에이핑크)</td>\n",
       "      <td>3.435489e-08</td>\n",
       "    </tr>\n",
       "    <tr>\n",
       "      <th>5</th>\n",
       "      <td>180728</td>\n",
       "      <td>6</td>\n",
       "      <td>여행</td>\n",
       "      <td>볼빨간사춘기</td>\n",
       "      <td>3.359563e-08</td>\n",
       "    </tr>\n",
       "    <tr>\n",
       "      <th>6</th>\n",
       "      <td>180728</td>\n",
       "      <td>7</td>\n",
       "      <td>LoveU</td>\n",
       "      <td>청하</td>\n",
       "      <td>3.705308e-08</td>\n",
       "    </tr>\n",
       "    <tr>\n",
       "      <th>7</th>\n",
       "      <td>180728</td>\n",
       "      <td>8</td>\n",
       "      <td>ForeverYoung</td>\n",
       "      <td>BLACKPINK</td>\n",
       "      <td>3.420203e-08</td>\n",
       "    </tr>\n",
       "    <tr>\n",
       "      <th>8</th>\n",
       "      <td>180728</td>\n",
       "      <td>9</td>\n",
       "      <td>모든날,모든순간(Everyday,EveryMoment)</td>\n",
       "      <td>폴킴</td>\n",
       "      <td>3.672847e-07</td>\n",
       "    </tr>\n",
       "    <tr>\n",
       "      <th>9</th>\n",
       "      <td>180728</td>\n",
       "      <td>10</td>\n",
       "      <td>동화</td>\n",
       "      <td>멜로망스(MeloMance)</td>\n",
       "      <td>3.379944e-08</td>\n",
       "    </tr>\n",
       "    <tr>\n",
       "      <th>10</th>\n",
       "      <td>180728</td>\n",
       "      <td>11</td>\n",
       "      <td>지나오다</td>\n",
       "      <td>닐로(Nilo)</td>\n",
       "      <td>9.140431e-01</td>\n",
       "    </tr>\n",
       "  </tbody>\n",
       "</table>\n",
       "</div>"
      ],
      "text/plain": [
       "    YYMMDD ranking                           title           artist  \\\n",
       "0   180728       1                     WayBackHome         숀(SHAUN)   \n",
       "1   180728       2              뚜두뚜두(DDU-DUDDU-DU)        BLACKPINK   \n",
       "2   180728       3               DanceTheNightAway      TWICE(트와이스)   \n",
       "3   180728       4                  너나해(Egotistic)     마마무(Mamamoo)   \n",
       "4   180728       5                            1도없어      Apink(에이핑크)   \n",
       "5   180728       6                              여행           볼빨간사춘기   \n",
       "6   180728       7                           LoveU               청하   \n",
       "7   180728       8                    ForeverYoung        BLACKPINK   \n",
       "8   180728       9  모든날,모든순간(Everyday,EveryMoment)               폴킴   \n",
       "9   180728      10                              동화  멜로망스(MeloMance)   \n",
       "10  180728      11                            지나오다         닐로(Nilo)   \n",
       "\n",
       "      prediction  \n",
       "0   9.892565e-01  \n",
       "1   3.422160e-08  \n",
       "2   3.376477e-08  \n",
       "3   3.409950e-08  \n",
       "4   3.435489e-08  \n",
       "5   3.359563e-08  \n",
       "6   3.705308e-08  \n",
       "7   3.420203e-08  \n",
       "8   3.672847e-07  \n",
       "9   3.379944e-08  \n",
       "10  9.140431e-01  "
      ]
     },
     "execution_count": 178,
     "metadata": {},
     "output_type": "execute_result"
    }
   ],
   "source": [
    "df['prediction'] = result\n",
    "df"
   ]
  },
  {
   "cell_type": "markdown",
   "metadata": {},
   "source": [
    "## 모델 저장"
   ]
  },
  {
   "cell_type": "code",
   "execution_count": 179,
   "metadata": {},
   "outputs": [
    {
     "data": {
      "text/plain": [
       "'./model/dnn.ckpt'"
      ]
     },
     "execution_count": 179,
     "metadata": {},
     "output_type": "execute_result"
    }
   ],
   "source": [
    "saver = tf.train.Saver(tf.global_variables())\n",
    "saver.save(sess, './model/dnn.ckpt')"
   ]
  },
  {
   "cell_type": "code",
   "execution_count": null,
   "metadata": {},
   "outputs": [],
   "source": []
  }
 ],
 "metadata": {
  "kernelspec": {
   "display_name": "Python 3",
   "language": "python",
   "name": "python3"
  },
  "language_info": {
   "codemirror_mode": {
    "name": "ipython",
    "version": 3
   },
   "file_extension": ".py",
   "mimetype": "text/x-python",
   "name": "python",
   "nbconvert_exporter": "python",
   "pygments_lexer": "ipython3",
   "version": "3.6.7"
  }
 },
 "nbformat": 4,
 "nbformat_minor": 2
}
