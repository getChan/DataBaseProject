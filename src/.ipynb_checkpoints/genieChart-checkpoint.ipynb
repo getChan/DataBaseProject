{
 "cells": [
  {
   "cell_type": "markdown",
   "metadata": {},
   "source": [
    "# 차트 데이터 "
   ]
  },
  {
   "cell_type": "code",
   "execution_count": 105,
   "metadata": {},
   "outputs": [],
   "source": [
    "import pymysql\n",
    "import pandas as pd\n",
    "from matplotlib import pyplot as plt\n",
    "%matplotlib inline"
   ]
  },
  {
   "cell_type": "code",
   "execution_count": 112,
   "metadata": {},
   "outputs": [],
   "source": [
    "# 쿼리를 입력하면 db에 있는 데이터를 pandas DataFrame형태로 반환\n",
    "def dbQuery(query):\n",
    "    \n",
    "    conn = pymysql.connect(host='zuzak.cvqcrkck1aqg.us-east-1.rds.amazonaws.com', user='getChan', password='cksdl951!!',db='zuzak', charset='euckr')\n",
    "    q = query\n",
    "    try:\n",
    "        with conn.cursor() as cursor:\n",
    "            df = pd.read_sql(q, con=conn)\n",
    "            cursor.fetchall()\n",
    "    finally:\n",
    "        conn.close()\n",
    "        return df\n",
    "\n",
    "# DataFrame 전처리 함수.\n",
    "def dfFilter(dataFrame):\n",
    "    df = dataFrame.set_index(\"YYMMDD\")\n",
    "    df.ranking =pd.to_numeric(df.ranking)\n",
    "\n",
    "    return df\n",
    "\n",
    "# dataFrame 시각화\n",
    "def dfPlot(dataFrame):\n",
    "    dataFrame.plot()\n",
    "    plt.gca().invert_yaxis()\n",
    "    plt.ylabel('ranking')\n",
    "    plt.show()\n"
   ]
  },
  {
   "cell_type": "code",
   "execution_count": 115,
   "metadata": {},
   "outputs": [
    {
     "name": "stdout",
     "output_type": "stream",
     "text": [
      "        ranking title    artist\n",
      "YYMMDD                         \n",
      "180327       80  지나오다  닐로(Nilo)\n",
      "180328       57  지나오다  닐로(Nilo)\n",
      "180329       47  지나오다  닐로(Nilo)\n",
      "180330       39  지나오다  닐로(Nilo)\n",
      "180331       40  지나오다  닐로(Nilo)\n",
      "180401       31  지나오다  닐로(Nilo)\n",
      "180402       29  지나오다  닐로(Nilo)\n",
      "180403       27  지나오다  닐로(Nilo)\n",
      "180404       24  지나오다  닐로(Nilo)\n",
      "180405       21  지나오다  닐로(Nilo)\n",
      "180406       20  지나오다  닐로(Nilo)\n",
      "180407       20  지나오다  닐로(Nilo)\n",
      "180408        8  지나오다  닐로(Nilo)\n",
      "180409        2  지나오다  닐로(Nilo)\n",
      "180410        2  지나오다  닐로(Nilo)\n",
      "180411        1  지나오다  닐로(Nilo)\n",
      "총 차트 진입일 = 16\n"
     ]
    },
    {
     "data": {
      "image/png": "[encoded data removed]",
      "text/plain": [
       "<Figure size 432x288 with 1 Axes>"
      ]
     },
     "metadata": {
      "needs_background": "light"
     },
     "output_type": "display_data"
    },
    {
     "name": "stdout",
     "output_type": "stream",
     "text": [
      "         ranking\n",
      "count  16.000000\n",
      "mean   28.000000\n",
      "std    21.379118\n",
      "min     1.000000\n",
      "25%    17.000000\n",
      "50%    25.500000\n",
      "75%    39.250000\n",
      "max    80.000000\n",
      "         ranking\n",
      "ranking      1.0\n"
     ]
    }
   ],
   "source": [
    "# 메인함수\n",
    "if __name__ == \"__main__\":\n",
    "    # 쿼리문 입력\n",
    "    query = \"\"\" SELECT * FROM zuzak.genie where title = '지나오다' and YYMMDD<=180411; \"\"\"\n",
    "    \n",
    "    Chartdf = dbQuery(query)\n",
    "    Chartdf = dfFilter(Chartdf)\n",
    "    \n",
    "    # 쿼리결과 없으면\n",
    "    if Chartdf.empty:\n",
    "        print('결과 데이터가 없습니다.')\n",
    "        \n",
    "    # 쿼리 결과\n",
    "    else :\n",
    "        print(Chartdf)\n",
    "        \n",
    "        print('총 차트 진입일 = '+str(len(Chartdf)))\n",
    "        \n",
    "        #시각화\n",
    "        dfPlot(Chartdf)\n",
    "\n",
    "        #데이터 정보 출력\n",
    "        print(Chartdf.describe())\n",
    "\n",
    "        #데이터 피어슨 상관계수\n",
    "        print(Chartdf.corr(method='pearson'))\n",
    "        "
   ]
  },
  {
   "cell_type": "markdown",
   "metadata": {},
   "source": [
    "# 네이버트렌드"
   ]
  },
  {
   "cell_type": "code",
   "execution_count": 108,
   "metadata": {},
   "outputs": [],
   "source": [
    "#-*- coding: utf-8 -*-\n",
    "import urllib.request\n",
    "import json"
   ]
  },
  {
   "cell_type": "code",
   "execution_count": 116,
   "metadata": {},
   "outputs": [
    {
     "name": "stdout",
     "output_type": "stream",
     "text": [
      "                ratio\n",
      "period               \n",
      "2018-03-27   65.55814\n",
      "2018-03-28   67.10442\n",
      "2018-03-29   68.82016\n",
      "2018-03-30   73.96737\n",
      "2018-03-31  100.00000\n",
      "2018-04-01   88.43465\n",
      "2018-04-02   58.97055\n",
      "2018-04-03   62.08430\n",
      "2018-04-04   62.82567\n",
      "2018-04-05   64.47786\n",
      "2018-04-06   71.10781\n",
      "2018-04-07   92.71340\n",
      "2018-04-08   84.11353\n",
      "2018-04-09   58.58928\n",
      "2018-04-10   54.64943\n",
      "2018-04-11   57.72082\n",
      "결과 레코드 수 = 16\n"
     ]
    },
    {
     "data": {
      "image/png": "[encoded data removed]",
      "text/plain": [
       "<Figure size 432x288 with 1 Axes>"
      ]
     },
     "metadata": {
      "needs_background": "light"
     },
     "output_type": "display_data"
    },
    {
     "name": "stdout",
     "output_type": "stream",
     "text": [
      "            ratio\n",
      "count   16.000000\n",
      "mean    70.696087\n",
      "std     13.605251\n",
      "min     54.649430\n",
      "25%     61.305863\n",
      "50%     66.331280\n",
      "75%     76.503910\n",
      "max    100.000000\n",
      "       ratio\n",
      "ratio    1.0\n"
     ]
    }
   ],
   "source": [
    "def NaverTrend():\n",
    "    client_id = \"_X9iNbtxufWnpoN9n0gx\"\n",
    "    client_secret = \"xUdZWWvtJJ\"\n",
    "    url = \"https://openapi.naver.com/v1/datalab/search\";\n",
    "\n",
    "    body = \"\"\"{\n",
    "            \\\"startDate\\\":\\\"2018-03-27\\\",\n",
    "            \\\"endDate\\\":\\\"2018-04-11\\\",\n",
    "            \\\"timeUnit\\\":\\\"date\\\",\n",
    "            \\\"keywordGroups\\\":\n",
    "                [\n",
    "                    {\n",
    "                    \\\"groupName\\\":\\\"그날처럼\\\",\n",
    "                    \\\"keywords\\\":\n",
    "                        [\n",
    "                        \\\"그날처럼\\\"\n",
    "                        ]\n",
    "                    }\n",
    "                ]\n",
    "            }\"\"\";\n",
    "\n",
    "    request = urllib.request.Request(url)\n",
    "    request.add_header(\"X-Naver-Client-Id\",client_id)\n",
    "    request.add_header(\"X-Naver-Client-Secret\",client_secret)\n",
    "    request.add_header(\"Content-Type\",\"application/json\")\n",
    "    response = urllib.request.urlopen(request, data=body.encode(\"utf-8\"))\n",
    "    rescode = response.getcode()\n",
    "    if(rescode==200):\n",
    "        response_body = response.read()\n",
    "    else:\n",
    "        print(\"Error Code:\" + rescode)\n",
    "\n",
    "        \n",
    "    # plotting\n",
    "    naver = response_body\n",
    "    jsondata = json.loads(naver.decode())\n",
    "    \n",
    "    # 검색 데이터 필터링\n",
    "    tmp = jsondata['results'][0]['data']\n",
    "    df = pd.DataFrame(tmp)\n",
    "    df.index = df.period\n",
    "    del df['period']\n",
    "    \n",
    "    return df\n",
    "    \n",
    "    # 메인함수\n",
    "if __name__ == \"__main__\":\n",
    "    Naverdf = NaverTrend()\n",
    "    print(Naverdf)\n",
    "    print('결과 레코드 수 = '+str(len(Naverdf)))\n",
    "    Naverdf.plot()\n",
    "    plt.show()\n",
    "\n",
    "    #데이터 정보 출력\n",
    "    print(Naverdf.describe())\n",
    "\n",
    "    #데이터 피어슨 상관계수\n",
    "    print(Naverdf.corr(method='pearson'))\n"
   ]
  },
  {
   "cell_type": "markdown",
   "metadata": {},
   "source": [
    "# 상관분석"
   ]
  },
  {
   "cell_type": "code",
   "execution_count": 117,
   "metadata": {},
   "outputs": [
    {
     "ename": "AttributeError",
     "evalue": "'DataFrame' object has no attribute 're'",
     "output_type": "error",
     "traceback": [
      "\u001b[1;31m---------------------------------------------------------------------------\u001b[0m",
      "\u001b[1;31mAttributeError\u001b[0m                            Traceback (most recent call last)",
      "\u001b[1;32m<ipython-input-117-57ffb24f2227>\u001b[0m in \u001b[0;36m<module>\u001b[1;34m\u001b[0m\n\u001b[0;32m      6\u001b[0m \u001b[1;33m\u001b[0m\u001b[0m\n\u001b[0;32m      7\u001b[0m \u001b[1;32mif\u001b[0m \u001b[0m__name__\u001b[0m\u001b[1;33m==\u001b[0m\u001b[1;34m'__main__'\u001b[0m\u001b[1;33m:\u001b[0m\u001b[1;33m\u001b[0m\u001b[1;33m\u001b[0m\u001b[0m\n\u001b[1;32m----> 8\u001b[1;33m     \u001b[0mMergeData\u001b[0m\u001b[1;33m(\u001b[0m\u001b[0mNaverdf\u001b[0m\u001b[1;33m,\u001b[0m \u001b[0mChartdf\u001b[0m\u001b[1;33m)\u001b[0m\u001b[1;33m\u001b[0m\u001b[1;33m\u001b[0m\u001b[0m\n\u001b[0m",
      "\u001b[1;32m<ipython-input-117-57ffb24f2227>\u001b[0m in \u001b[0;36mMergeData\u001b[1;34m(naver, chart)\u001b[0m\n\u001b[0;32m      2\u001b[0m \u001b[1;32mdef\u001b[0m \u001b[0mMergeData\u001b[0m\u001b[1;33m(\u001b[0m\u001b[0mnaver\u001b[0m\u001b[1;33m,\u001b[0m \u001b[0mchart\u001b[0m\u001b[1;33m)\u001b[0m\u001b[1;33m:\u001b[0m\u001b[1;33m\u001b[0m\u001b[1;33m\u001b[0m\u001b[0m\n\u001b[0;32m      3\u001b[0m     \u001b[1;31m# Naverdf 조정\u001b[0m\u001b[1;33m\u001b[0m\u001b[1;33m\u001b[0m\u001b[1;33m\u001b[0m\u001b[0m\n\u001b[1;32m----> 4\u001b[1;33m     \u001b[0mnaver\u001b[0m\u001b[1;33m.\u001b[0m\u001b[0mre\u001b[0m\u001b[1;33m\u001b[0m\u001b[1;33m\u001b[0m\u001b[0m\n\u001b[0m\u001b[0;32m      5\u001b[0m \u001b[1;33m\u001b[0m\u001b[0m\n\u001b[0;32m      6\u001b[0m \u001b[1;33m\u001b[0m\u001b[0m\n",
      "\u001b[1;32mC:\\ProgramData\\Anaconda3\\lib\\site-packages\\pandas\\core\\generic.py\u001b[0m in \u001b[0;36m__getattr__\u001b[1;34m(self, name)\u001b[0m\n\u001b[0;32m   4374\u001b[0m             \u001b[1;32mif\u001b[0m \u001b[0mself\u001b[0m\u001b[1;33m.\u001b[0m\u001b[0m_info_axis\u001b[0m\u001b[1;33m.\u001b[0m\u001b[0m_can_hold_identifiers_and_holds_name\u001b[0m\u001b[1;33m(\u001b[0m\u001b[0mname\u001b[0m\u001b[1;33m)\u001b[0m\u001b[1;33m:\u001b[0m\u001b[1;33m\u001b[0m\u001b[1;33m\u001b[0m\u001b[0m\n\u001b[0;32m   4375\u001b[0m                 \u001b[1;32mreturn\u001b[0m \u001b[0mself\u001b[0m\u001b[1;33m[\u001b[0m\u001b[0mname\u001b[0m\u001b[1;33m]\u001b[0m\u001b[1;33m\u001b[0m\u001b[1;33m\u001b[0m\u001b[0m\n\u001b[1;32m-> 4376\u001b[1;33m             \u001b[1;32mreturn\u001b[0m \u001b[0mobject\u001b[0m\u001b[1;33m.\u001b[0m\u001b[0m__getattribute__\u001b[0m\u001b[1;33m(\u001b[0m\u001b[0mself\u001b[0m\u001b[1;33m,\u001b[0m \u001b[0mname\u001b[0m\u001b[1;33m)\u001b[0m\u001b[1;33m\u001b[0m\u001b[1;33m\u001b[0m\u001b[0m\n\u001b[0m\u001b[0;32m   4377\u001b[0m \u001b[1;33m\u001b[0m\u001b[0m\n\u001b[0;32m   4378\u001b[0m     \u001b[1;32mdef\u001b[0m \u001b[0m__setattr__\u001b[0m\u001b[1;33m(\u001b[0m\u001b[0mself\u001b[0m\u001b[1;33m,\u001b[0m \u001b[0mname\u001b[0m\u001b[1;33m,\u001b[0m \u001b[0mvalue\u001b[0m\u001b[1;33m)\u001b[0m\u001b[1;33m:\u001b[0m\u001b[1;33m\u001b[0m\u001b[1;33m\u001b[0m\u001b[0m\n",
      "\u001b[1;31mAttributeError\u001b[0m: 'DataFrame' object has no attribute 're'"
     ]
    }
   ],
   "source": [
    "# 데이터프레임 합치기\n",
    "def MergeData(naver, chart):\n",
    "    # Naverdf 조정\n",
    "    naver.rename(columns={'period':'YYMMDD', 'ratio':'naver'}, inplace=True)\n",
    "    naver['YYMMDD']\n",
    "    \n",
    "    \n",
    "if __name__=='__main__':\n",
    "    MergeData(Naverdf, Chartdf)"
   ]
  },
  {
   "cell_type": "code",
   "execution_count": null,
   "metadata": {},
   "outputs": [],
   "source": []
  }
 ],
 "metadata": {
  "kernelspec": {
   "display_name": "Python 3",
   "language": "python",
   "name": "python3"
  },
  "language_info": {
   "codemirror_mode": {
    "name": "ipython",
    "version": 3
   },
   "file_extension": ".py",
   "mimetype": "text/x-python",
   "name": "python",
   "nbconvert_exporter": "python",
   "pygments_lexer": "ipython3",
   "version": "3.6.7"
  }
 },
 "nbformat": 4,
 "nbformat_minor": 2
}
