{
 "cells": [
  {
   "cell_type": "markdown",
   "metadata": {},
   "source": [
    "# 차트 데이터 "
   ]
  },
  {
   "cell_type": "code",
   "execution_count": 1,
   "metadata": {},
   "outputs": [],
   "source": [
    "import pymysql\n",
    "import pandas as pd\n",
    "from matplotlib import pyplot as plt\n",
    "%matplotlib inline"
   ]
  },
  {
   "cell_type": "code",
   "execution_count": 2,
   "metadata": {},
   "outputs": [],
   "source": [
    "# 쿼리를 입력하면 db에 있는 데이터를 pandas DataFrame형태로 반환\n",
    "def dbQuery(query):\n",
    "    \n",
    "    conn = pymysql.connect(host='zuzak.cvqcrkck1aqg.us-east-1.rds.amazonaws.com', user='getChan', password='cksdl951!!',db='zuzak', charset='euckr')\n",
    "    q = query\n",
    "    try:\n",
    "        with conn.cursor() as cursor:\n",
    "            df = pd.read_sql(q, con=conn)\n",
    "            cursor.fetchall()\n",
    "    finally:\n",
    "        conn.close()\n",
    "        return df\n",
    "\n",
    "# DataFrame 전처리 함수.\n",
    "def dfFilter(dataFrame):\n",
    "    df = dataFrame.set_index(\"YYMMDD\")\n",
    "    df.ranking =pd.to_numeric(df.ranking)\n",
    "\n",
    "    return df\n",
    "\n",
    "# dataFrame 시각화\n",
    "def dfPlot(dataFrame):\n",
    "    dataFrame.plot()\n",
    "    plt.gca().invert_yaxis()\n",
    "    plt.ylabel('ranking')\n",
    "    plt.show()\n"
   ]
  },
  {
   "cell_type": "code",
   "execution_count": 13,
   "metadata": {},
   "outputs": [
    {
     "name": "stdout",
     "output_type": "stream",
     "text": [
      "        ranking title    artist\n",
      "YYMMDD                         \n",
      "180327       80  지나오다  닐로(Nilo)\n",
      "180328       57  지나오다  닐로(Nilo)\n",
      "180329       47  지나오다  닐로(Nilo)\n",
      "180330       39  지나오다  닐로(Nilo)\n",
      "180331       40  지나오다  닐로(Nilo)\n",
      "180401       31  지나오다  닐로(Nilo)\n",
      "180402       29  지나오다  닐로(Nilo)\n",
      "180403       27  지나오다  닐로(Nilo)\n",
      "180404       24  지나오다  닐로(Nilo)\n",
      "180405       21  지나오다  닐로(Nilo)\n",
      "180406       20  지나오다  닐로(Nilo)\n",
      "180407       20  지나오다  닐로(Nilo)\n",
      "180408        8  지나오다  닐로(Nilo)\n",
      "180409        2  지나오다  닐로(Nilo)\n",
      "180410        2  지나오다  닐로(Nilo)\n",
      "180411        1  지나오다  닐로(Nilo)\n",
      "총 차트 진입일 = 16\n"
     ]
    },
    {
     "data": {
      "image/png": "[encoded data removed]",
      "text/plain": [
       "<Figure size 432x288 with 1 Axes>"
      ]
     },
     "metadata": {
      "needs_background": "light"
     },
     "output_type": "display_data"
    },
    {
     "name": "stdout",
     "output_type": "stream",
     "text": [
      "         ranking\n",
      "count  16.000000\n",
      "mean   28.000000\n",
      "std    21.379118\n",
      "min     1.000000\n",
      "25%    17.000000\n",
      "50%    25.500000\n",
      "75%    39.250000\n",
      "max    80.000000\n",
      "         ranking\n",
      "ranking      1.0\n"
     ]
    }
   ],
   "source": [
    "# 메인함수\n",
    "if __name__ == \"__main__\":\n",
    "    # 쿼리문 입력\n",
    "    query = \"\"\" SELECT * FROM zuzak.genie where title = '지나오다' and YYMMDD<=180411 order by YYMMDD; \"\"\"\n",
    "    \n",
    "    Chartdf = dbQuery(query)\n",
    "    Chartdf = dfFilter(Chartdf)\n",
    "    \n",
    "    # 쿼리결과 없으면\n",
    "    if Chartdf.empty:\n",
    "        print('결과 데이터가 없습니다.')\n",
    "        \n",
    "    # 쿼리 결과\n",
    "    else :\n",
    "        print(Chartdf)\n",
    "        \n",
    "        print('총 차트 진입일 = '+str(len(Chartdf)))\n",
    "        \n",
    "        #시각화\n",
    "        dfPlot(Chartdf)\n",
    "\n",
    "        #데이터 정보 출력\n",
    "        print(Chartdf.describe())\n",
    "\n",
    "        #데이터 피어슨 상관계수\n",
    "        print(Chartdf.corr(method='pearson'))\n",
    "        "
   ]
  },
  {
   "cell_type": "markdown",
   "metadata": {},
   "source": [
    "# 네이버트렌드"
   ]
  },
  {
   "cell_type": "code",
   "execution_count": 10,
   "metadata": {},
   "outputs": [],
   "source": [
    "#-*- coding: utf-8 -*-\n",
    "import urllib.request\n",
    "import json"
   ]
  },
  {
   "cell_type": "code",
   "execution_count": 94,
   "metadata": {},
   "outputs": [
    {
     "name": "stdout",
     "output_type": "stream",
     "text": [
      "                ratio\n",
      "period               \n",
      "2018-03-25   20.19834\n",
      "2018-03-26   17.15702\n",
      "2018-03-27   23.66942\n",
      "2018-03-28   21.81818\n",
      "2018-03-29   25.61983\n",
      "2018-03-30   21.68595\n",
      "2018-03-31   29.12396\n",
      "2018-04-01   29.25619\n",
      "2018-04-02   26.67768\n",
      "2018-04-03   27.66942\n",
      "2018-04-04   29.35537\n",
      "2018-04-05   34.84297\n",
      "2018-04-06   39.14049\n",
      "2018-04-07   62.90909\n",
      "2018-04-08   68.72727\n",
      "2018-04-09   67.30578\n",
      "2018-04-10   86.11570\n",
      "2018-04-11  100.00000\n",
      "결과 레코드 수 = 18\n"
     ]
    },
    {
     "data": {
      "image/png": "[encoded data removed]",
      "text/plain": [
       "<Figure size 432x288 with 1 Axes>"
      ]
     },
     "metadata": {
      "needs_background": "light"
     },
     "output_type": "display_data"
    },
    {
     "name": "stdout",
     "output_type": "stream",
     "text": [
      "            ratio\n",
      "count   18.000000\n",
      "mean    40.626259\n",
      "std     24.938207\n",
      "min     17.157020\n",
      "25%     24.157022\n",
      "50%     29.190075\n",
      "75%     56.966940\n",
      "max    100.000000\n",
      "       ratio\n",
      "ratio    1.0\n"
     ]
    }
   ],
   "source": [
    "def NaverTrend():\n",
    "    client_id = \"_X9iNbtxufWnpoN9n0gx\"\n",
    "    client_secret = \"xUdZWWvtJJ\"\n",
    "    url = \"https://openapi.naver.com/v1/datalab/search\";\n",
    "\n",
    "    body = \"\"\"{\n",
    "            \\\"startDate\\\":\\\"2018-03-25\\\",\n",
    "            \\\"endDate\\\":\\\"2018-04-11\\\",\n",
    "            \\\"timeUnit\\\":\\\"date\\\",\n",
    "            \\\"keywordGroups\\\":\n",
    "                [\n",
    "                    {\n",
    "                    \\\"groupName\\\":\\\"지나오다\\\",\n",
    "                    \\\"keywords\\\":\n",
    "                        [\n",
    "                        \\\"지나오다\\\"\n",
    "                        ]\n",
    "                    }\n",
    "                ]\n",
    "            }\"\"\";\n",
    "\n",
    "    request = urllib.request.Request(url)\n",
    "    request.add_header(\"X-Naver-Client-Id\",client_id)\n",
    "    request.add_header(\"X-Naver-Client-Secret\",client_secret)\n",
    "    request.add_header(\"Content-Type\",\"application/json\")\n",
    "    response = urllib.request.urlopen(request, data=body.encode(\"utf-8\"))\n",
    "    rescode = response.getcode()\n",
    "    if(rescode==200):\n",
    "        response_body = response.read()\n",
    "    else:\n",
    "        print(\"Error Code:\" + rescode)\n",
    "\n",
    "        \n",
    "    # plotting\n",
    "    naver = response_body\n",
    "    jsondata = json.loads(naver.decode())\n",
    "    \n",
    "    # 검색 데이터 필터링\n",
    "    tmp = jsondata['results'][0]['data']\n",
    "    df = pd.DataFrame(tmp)\n",
    "    df.index = df.period\n",
    "    del df['period']\n",
    "    \n",
    "    return df\n",
    "    \n",
    "    # 메인함수\n",
    "if __name__ == \"__main__\":\n",
    "    Naverdf = NaverTrend()\n",
    "    print(Naverdf)\n",
    "    print('결과 레코드 수 = '+str(len(Naverdf)))\n",
    "    Naverdf.plot()\n",
    "    plt.show()\n",
    "\n",
    "    #데이터 정보 출력\n",
    "    print(Naverdf.describe())\n",
    "\n",
    "    #데이터 피어슨 상관계수\n",
    "    print(Naverdf.corr(method='pearson'))\n"
   ]
  },
  {
   "cell_type": "markdown",
   "metadata": {},
   "source": [
    "# 상관분석"
   ]
  },
  {
   "cell_type": "code",
   "execution_count": 95,
   "metadata": {},
   "outputs": [],
   "source": [
    "# 데이터프레임 합치기\n",
    "def MergeData(naver, chart):\n",
    "    # Naverdf 조정\n",
    "    naver.rename(columns={'ratio':'naver'}, index={'period':'YYMMDD'},inplace=True)\n",
    "    naver.index = naver.index.map(lambda x : x[2:4]+x[5:7]+x[8:10])\n",
    "    naver.index.names = ['YYMMDD']\n",
    "    df = pd.concat([Chartdf, Naverdf], axis=1, join_axes=[Naverdf.index])\n",
    "    # naver 값 뒤집기\n",
    "    df.naver = df.naver.map(lambda x: (1/x)*100)\n",
    "    return df"
   ]
  },
  {
   "cell_type": "code",
   "execution_count": 96,
   "metadata": {},
   "outputs": [],
   "source": [
    "if __name__=='__main__':\n",
    "    df = MergeData(Naverdf, Chartdf)"
   ]
  },
  {
   "cell_type": "code",
   "execution_count": 99,
   "metadata": {},
   "outputs": [
    {
     "data": {
      "image/png": "[encoded data removed]",
      "text/plain": [
       "<Figure size 432x288 with 1 Axes>"
      ]
     },
     "metadata": {
      "needs_background": "light"
     },
     "output_type": "display_data"
    }
   ],
   "source": [
    "dfPlot(df)"
   ]
  },
  {
   "cell_type": "code",
   "execution_count": 100,
   "metadata": {},
   "outputs": [
    {
     "data": {
      "text/html": [
       "<div>\n",
       "<style scoped>\n",
       "    .dataframe tbody tr th:only-of-type {\n",
       "        vertical-align: middle;\n",
       "    }\n",
       "\n",
       "    .dataframe tbody tr th {\n",
       "        vertical-align: top;\n",
       "    }\n",
       "\n",
       "    .dataframe thead th {\n",
       "        text-align: right;\n",
       "    }\n",
       "</style>\n",
       "<table border=\"1\" class=\"dataframe\">\n",
       "  <thead>\n",
       "    <tr style=\"text-align: right;\">\n",
       "      <th></th>\n",
       "      <th>ranking</th>\n",
       "      <th>naver</th>\n",
       "    </tr>\n",
       "  </thead>\n",
       "  <tbody>\n",
       "    <tr>\n",
       "      <th>ranking</th>\n",
       "      <td>1.000000</td>\n",
       "      <td>0.847648</td>\n",
       "    </tr>\n",
       "    <tr>\n",
       "      <th>naver</th>\n",
       "      <td>0.847648</td>\n",
       "      <td>1.000000</td>\n",
       "    </tr>\n",
       "  </tbody>\n",
       "</table>\n",
       "</div>"
      ],
      "text/plain": [
       "          ranking     naver\n",
       "ranking  1.000000  0.847648\n",
       "naver    0.847648  1.000000"
      ]
     },
     "execution_count": 100,
     "metadata": {},
     "output_type": "execute_result"
    }
   ],
   "source": [
    "df.corr(method='pearson')"
   ]
  },
  {
   "cell_type": "code",
   "execution_count": null,
   "metadata": {},
   "outputs": [],
   "source": []
  }
 ],
 "metadata": {
  "kernelspec": {
   "display_name": "Python 3",
   "language": "python",
   "name": "python3"
  },
  "language_info": {
   "codemirror_mode": {
    "name": "ipython",
    "version": 3
   },
   "file_extension": ".py",
   "mimetype": "text/x-python",
   "name": "python",
   "nbconvert_exporter": "python",
   "pygments_lexer": "ipython3",
   "version": "3.6.7"
  }
 },
 "nbformat": 4,
 "nbformat_minor": 2
}
