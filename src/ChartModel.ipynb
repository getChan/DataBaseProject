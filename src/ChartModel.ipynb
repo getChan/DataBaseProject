{
 "cells": [
  {
   "cell_type": "markdown",
   "metadata": {},
   "source": [
    "# 속성 추출\n",
    "1. 차트 진입후 5위 이내까지 진입한 일수\n",
    "2. 해당 곡 아티스트의 다른 곡이 차트에 진입한 일수\n",
    "3. 차트 진입 후 5위 이내까지 일간 랭킹 상승 평균치\n",
    "4. and more..."
   ]
  },
  {
   "cell_type": "code",
   "execution_count": 14,
   "metadata": {},
   "outputs": [],
   "source": [
    "from getAttribute import dbQuery, chartInDays, rankIncreaseMean, rankInDays"
   ]
  },
  {
   "cell_type": "markdown",
   "metadata": {},
   "source": [
    "# 신경망 코드"
   ]
  },
  {
   "cell_type": "code",
   "execution_count": 15,
   "metadata": {},
   "outputs": [],
   "source": [
    "import tensorflow as tf\n",
    "import numpy as np"
   ]
  },
  {
   "cell_type": "markdown",
   "metadata": {},
   "source": [
    "## Train dataset 추출"
   ]
  },
  {
   "cell_type": "code",
   "execution_count": 16,
   "metadata": {},
   "outputs": [],
   "source": [
    "geniedf = dbQuery(\"SELECT * FROM zuzak.genie where YYMMDD = 180715 and ranking <= 15\")\n",
    "bugsdf = dbQuery(\"SELECT * FROM zuzak.bugs where YYMMDD = 180710 and ranking <= 15\")\n",
    "mnetdf = dbQuery(\"SELECT * FROM zuzak.mnet where YYMMDD = 180701 and ranking <= 15\")\n",
    "\n",
    "# 데이터프레임 합치기\n",
    "df = geniedf.append(bugsdf)\n",
    "df = df.append(mnetdf)\n",
    "df.reset_index(inplace=True, drop=True)"
   ]
  },
  {
   "cell_type": "markdown",
   "metadata": {},
   "source": [
    "### 레이블 설정"
   ]
  },
  {
   "cell_type": "code",
   "execution_count": 17,
   "metadata": {},
   "outputs": [],
   "source": [
    "# 조작음원 = 1\n",
    "# 여기선 지나오다, way back home 조작으로 가정\n",
    "tmp = df[(df['title']=='WayBackHome') | (df['title']=='지나오다')]\n",
    "labels = np.zeros([45, 1])\n",
    "labels[tmp.index] = 1"
   ]
  },
  {
   "cell_type": "markdown",
   "metadata": {},
   "source": [
    "### 속성 추출 및 정규화"
   ]
  },
  {
   "cell_type": "code",
   "execution_count": 18,
   "metadata": {},
   "outputs": [],
   "source": [
    "# 이전에 차트에 든 일수\n",
    "chartindays = np.fromiter(map(chartInDays, df['title'], df['artist'], ['genie']*len(df)), np.int32)"
   ]
  },
  {
   "cell_type": "code",
   "execution_count": 19,
   "metadata": {},
   "outputs": [],
   "source": [
    "# 랭킹 상승 평균값\n",
    "rankimean = np.fromiter(map(rankIncreaseMean, df['title'], ['genie']*len(df)), np.int32)\n",
    "rankimean = np.array((rankimean+1) / (chartindays+1))"
   ]
  },
  {
   "cell_type": "code",
   "execution_count": 20,
   "metadata": {},
   "outputs": [],
   "source": [
    "# top5 진입 일수\n",
    "rankindays = np.fromiter(map(rankInDays, df['title'], ['genie']*len(df)), np.int32)\n",
    "rankindays = np.array((rankimean + 1) / (chartindays+1))"
   ]
  },
  {
   "cell_type": "code",
   "execution_count": 21,
   "metadata": {},
   "outputs": [
    {
     "data": {
      "text/plain": [
       "array([0.01      , 0.99953236, 0.99927843, 0.99543779, 0.99973243,\n",
       "       0.99877778, 0.99927843, 0.99894344, 0.98946809, 0.99810707,\n",
       "       0.99932192, 0.01      , 0.99396341, 0.99706231, 0.01      ,\n",
       "       0.99953236, 0.01      , 0.99927843, 0.99543779, 0.99877778,\n",
       "       0.99927843, 0.01      , 0.99973243, 0.99707965, 0.99810707,\n",
       "       0.99922535, 0.99545872, 0.99888136, 0.01      , 0.01      ,\n",
       "       0.01      , 0.99927843, 0.99922535, 0.99810707, 0.98848837,\n",
       "       0.99927843, 0.99973243, 0.99706231, 0.01      , 0.99933691,\n",
       "       0.01      , 0.99440678, 0.99326531, 0.01      , 0.01      ])"
      ]
     },
     "execution_count": 21,
     "metadata": {},
     "output_type": "execute_result"
    }
   ],
   "source": [
    "# 데이터 정규하\n",
    "chartindays = np.array((chartindays+0.01) / (chartindays+1))\n",
    "chartindays"
   ]
  },
  {
   "cell_type": "markdown",
   "metadata": {},
   "source": [
    "### 속성 합치기"
   ]
  },
  {
   "cell_type": "code",
   "execution_count": 22,
   "metadata": {},
   "outputs": [
    {
     "data": {
      "text/plain": [
       "array([[1.00000000e-02, 1.40000000e+01, 1.50000000e+01],\n",
       "       [9.99532357e-01, 4.67642891e-02, 4.94456443e-04],\n",
       "       [9.99278426e-01, 7.28862974e-02, 7.81987097e-04],\n",
       "       [9.95437788e-01, 9.21658986e-03, 4.65076770e-03],\n",
       "       [9.99732432e-01, 2.70270270e-02, 2.77574872e-04],\n",
       "       [9.98777778e-01, 1.22222222e-01, 1.38545953e-03],\n",
       "       [9.99278426e-01, 7.14285714e-02, 7.80924615e-04],\n",
       "       [9.98943436e-01, 1.04589114e-01, 1.17885711e-03],\n",
       "       [9.89468085e-01, 2.12765957e-02, 1.08646446e-02],\n",
       "       [9.98107075e-01, 1.85468451e-01, 2.26667008e-03],\n",
       "       [9.99321918e-01, 6.84931507e-04, 6.85400638e-04],\n",
       "       [1.00000000e-02, 7.00000000e+00, 8.00000000e+00],\n",
       "       [9.93963415e-01, 6.09756098e-03, 6.13474123e-03],\n",
       "       [9.97062315e-01, 2.90801187e-01, 3.83027058e-03],\n",
       "       [1.00000000e-02, 9.80000000e+01, 9.90000000e+01],\n",
       "       [9.99532357e-01, 4.67642891e-02, 4.94456443e-04],\n",
       "       [1.00000000e-02, 1.40000000e+01, 1.50000000e+01],\n",
       "       [9.99278426e-01, 7.28862974e-02, 7.81987097e-04],\n",
       "       [9.95437788e-01, 9.21658986e-03, 4.65076770e-03],\n",
       "       [9.98777778e-01, 1.22222222e-01, 1.38545953e-03],\n",
       "       [9.99278426e-01, 7.14285714e-02, 7.80924615e-04],\n",
       "       [1.00000000e-02, 1.00000000e+00, 2.00000000e+00],\n",
       "       [9.99732432e-01, 2.70270270e-02, 2.77574872e-04],\n",
       "       [9.97079646e-01, 2.94985251e-03, 2.95855414e-03],\n",
       "       [9.98107075e-01, 1.85468451e-01, 2.26667008e-03],\n",
       "       [9.99225352e-01, 7.74647887e-02, 8.43086689e-04],\n",
       "       [9.95458716e-01, 4.58715596e-03, 4.60819796e-03],\n",
       "       [9.98881356e-01, 1.12994350e-03, 1.13122028e-03],\n",
       "       [1.00000000e-02, 2.00000000e+00, 3.00000000e+00],\n",
       "       [1.00000000e-02, 9.80000000e+01, 9.90000000e+01],\n",
       "       [1.00000000e-02, 1.00000000e+00, 2.00000000e+00],\n",
       "       [9.99278426e-01, 7.28862974e-02, 7.81987097e-04],\n",
       "       [9.99225352e-01, 7.74647887e-02, 8.43086689e-04],\n",
       "       [9.98107075e-01, 1.85468451e-01, 2.26667008e-03],\n",
       "       [9.88488372e-01, 1.16279070e-02, 1.17631152e-02],\n",
       "       [9.99278426e-01, 7.14285714e-02, 7.80924615e-04],\n",
       "       [9.99732432e-01, 2.70270270e-02, 2.77574872e-04],\n",
       "       [9.97062315e-01, 2.90801187e-01, 3.83027058e-03],\n",
       "       [1.00000000e-02, 1.00000000e+02, 1.01000000e+02],\n",
       "       [9.99336906e-01, 6.69792364e-02, 7.14654546e-04],\n",
       "       [1.00000000e-02, 1.00000000e+00, 2.00000000e+00],\n",
       "       [9.94406780e-01, 5.64971751e-03, 5.68163682e-03],\n",
       "       [9.93265306e-01, 6.80272109e-03, 6.84899810e-03],\n",
       "       [1.00000000e-02, 1.00000000e+00, 2.00000000e+00],\n",
       "       [1.00000000e-02, 7.00000000e+00, 8.00000000e+00]])"
      ]
     },
     "execution_count": 22,
     "metadata": {},
     "output_type": "execute_result"
    }
   ],
   "source": [
    "train_data = np.array([chartindays, rankimean, rankindays]).T\n",
    "train_data"
   ]
  },
  {
   "cell_type": "markdown",
   "metadata": {},
   "source": [
    "# 신경망 학습 "
   ]
  },
  {
   "cell_type": "code",
   "execution_count": 29,
   "metadata": {
    "scrolled": true
   },
   "outputs": [
    {
     "name": "stdout",
     "output_type": "stream",
     "text": [
      "1 2.6332787e-06\n",
      "예측값: [[1.        ]\n",
      " [0.53761685]\n",
      " [0.5425773 ]\n",
      " [0.53097445]\n",
      " [0.53386414]\n",
      " [0.5519299 ]\n",
      " [0.5423023 ]\n",
      " [0.5485919 ]\n",
      " [0.533938  ]\n",
      " [0.5638788 ]\n",
      " [0.52892613]\n",
      " [0.99994075]\n",
      " [0.53054625]\n",
      " [0.58362377]\n",
      " [1.        ]\n",
      " [0.53761685]\n",
      " [1.        ]\n",
      " [0.5425773 ]\n",
      " [0.53097445]\n",
      " [0.5519299 ]\n",
      " [0.5423023 ]\n",
      " [0.86586356]\n",
      " [0.53386414]\n",
      " [0.5296032 ]\n",
      " [0.5638788 ]\n",
      " [0.54344714]\n",
      " [0.53009343]\n",
      " [0.5290591 ]\n",
      " [0.9599404 ]\n",
      " [1.        ]\n",
      " [0.86586356]\n",
      " [0.5425773 ]\n",
      " [0.54344714]\n",
      " [0.5638788 ]\n",
      " [0.5322092 ]\n",
      " [0.5423023 ]\n",
      " [0.53386414]\n",
      " [0.58362377]\n",
      " [1.        ]\n",
      " [0.541456  ]\n",
      " [0.86586356]\n",
      " [0.53041196]\n",
      " [0.53075784]\n",
      " [0.86586356]\n",
      " [0.99994075]]\n",
      "실제값: [[1.]\n",
      " [0.]\n",
      " [0.]\n",
      " [0.]\n",
      " [0.]\n",
      " [0.]\n",
      " [0.]\n",
      " [0.]\n",
      " [0.]\n",
      " [0.]\n",
      " [0.]\n",
      " [1.]\n",
      " [0.]\n",
      " [0.]\n",
      " [0.]\n",
      " [0.]\n",
      " [1.]\n",
      " [0.]\n",
      " [0.]\n",
      " [0.]\n",
      " [0.]\n",
      " [0.]\n",
      " [0.]\n",
      " [0.]\n",
      " [0.]\n",
      " [0.]\n",
      " [0.]\n",
      " [0.]\n",
      " [0.]\n",
      " [0.]\n",
      " [0.]\n",
      " [0.]\n",
      " [0.]\n",
      " [0.]\n",
      " [0.]\n",
      " [0.]\n",
      " [0.]\n",
      " [0.]\n",
      " [0.]\n",
      " [0.]\n",
      " [0.]\n",
      " [0.]\n",
      " [0.]\n",
      " [0.]\n",
      " [1.]]\n"
     ]
    }
   ],
   "source": [
    "# [chartindays, rankimean, rankindays]\n",
    "x_data = train_data\n",
    "\n",
    "y_data = labels\n",
    "\n",
    "#########\n",
    "# 신경망 모델 구성\n",
    "######\n",
    "X = tf.placeholder(tf.float32)\n",
    "Y = tf.placeholder(tf.float32)\n",
    "\n",
    "W = tf.Variable(tf.random_uniform([3, 1], -1., 1.))\n",
    "\n",
    "b = tf.Variable(tf.zeros([1]))\n",
    "\n",
    "# 신경망에 가중치 W과 편향 b을 적용합니다\n",
    "L = tf.add(tf.matmul(X, W), b)\n",
    "\n",
    "L = tf.nn.sigmoid(L)\n",
    "\n",
    "model = L\n",
    "\n",
    "# 신경망을 최적화하기 위한 비용 함수를 작성합니다.\n",
    "# 각 개별 결과에 대한 합을 구한 뒤 평균을 내는 방식을 사용합니다\n",
    "cost = tf.reduce_mean(-tf.reduce_sum(Y * tf.log(model), axis=1))\n",
    "\n",
    "optimizer = tf.train.GradientDescentOptimizer(learning_rate=0.001)\n",
    "train_op = optimizer.minimize(cost)\n",
    "\n",
    "init = tf.global_variables_initializer()\n",
    "sess = tf.Session()\n",
    "sess.run(init)\n",
    "\n",
    "for step in range(1):\n",
    "    sess.run(train_op, feed_dict={X: x_data, Y: y_data})\n",
    "\n",
    "    print(step + 1, sess.run(cost, feed_dict={X: x_data, Y: y_data}))\n",
    "\n",
    "\n",
    "prediction = model\n",
    "target = Y\n",
    "print('예측값:', sess.run(prediction, feed_dict={X: x_data}))\n",
    "print('실제값:', sess.run(target, feed_dict={Y: y_data}))"
   ]
  },
  {
   "cell_type": "markdown",
   "metadata": {},
   "source": [
    "# 테스트 데이터"
   ]
  },
  {
   "cell_type": "code",
   "execution_count": 30,
   "metadata": {},
   "outputs": [],
   "source": [
    "df = dbQuery(\"SELECT * FROM zuzak.bugs where ranking <=15 and YYMMDD = 180105\")"
   ]
  },
  {
   "cell_type": "markdown",
   "metadata": {},
   "source": [
    "### 데이터 정규화"
   ]
  },
  {
   "cell_type": "code",
   "execution_count": 31,
   "metadata": {},
   "outputs": [],
   "source": [
    "# 이전에 차트에 든 일수\n",
    "chartindays = np.fromiter(map(chartInDays, df['title'], df['artist'], ['bugs']*len(df)), np.int32)\n",
    "# 랭킹 상승 평균값\n",
    "rankimean = np.fromiter(map(rankIncreaseMean, df['title'], ['bugs']*len(df)), np.int32)\n",
    "rankimean = np.array((rankimean+1) / (chartindays+1))\n",
    "# top5 진입 일수\n",
    "rankindays = np.fromiter(map(rankInDays, df['title'], ['bugs']*len(df)), np.int32)\n",
    "rankindays = np.array((rankimean + 1) / (chartindays+1))\n",
    "# 정규화\n",
    "chartindays = np.array((chartindays+0.01) / (chartindays+1))\n",
    "# 데이터 합치기\n",
    "test_data = np.array([chartindays, rankimean, rankindays]).T"
   ]
  },
  {
   "cell_type": "markdown",
   "metadata": {},
   "source": [
    "### 테스트"
   ]
  },
  {
   "cell_type": "code",
   "execution_count": 32,
   "metadata": {},
   "outputs": [
    {
     "data": {
      "text/plain": [
       "array([[9.98901221e-01, 1.10987791e-01, 1.23306081e-03],\n",
       "       [9.98935484e-01, 1.07526882e-01, 1.19088912e-03],\n",
       "       [1.00000000e-02, 2.00000000e+00, 3.00000000e+00],\n",
       "       [9.97946058e-01, 2.07468880e-01, 2.50512216e-03],\n",
       "       [5.05000000e-01, 9.00000000e+00, 5.00000000e+00],\n",
       "       [9.99294872e-01, 7.12250712e-02, 7.62980820e-04],\n",
       "       [5.05000000e-01, 1.50000000e+00, 1.25000000e+00],\n",
       "       [1.00000000e-02, 4.00000000e+00, 5.00000000e+00],\n",
       "       [9.61923077e-01, 3.80769231e+00, 1.84911243e-01],\n",
       "       [9.99385093e-01, 6.14906832e-02, 6.59310983e-04],\n",
       "       [1.00000000e-02, 1.00000000e+00, 2.00000000e+00],\n",
       "       [9.64642857e-01, 3.57142857e+00, 1.63265306e-01],\n",
       "       [9.98982528e-01, 1.02774923e-01, 1.13337608e-03],\n",
       "       [9.10000000e-01, 9.09090909e-02, 9.91735537e-02],\n",
       "       [6.70000000e-01, 3.26666667e+01, 1.12222222e+01]])"
      ]
     },
     "execution_count": 32,
     "metadata": {},
     "output_type": "execute_result"
    }
   ],
   "source": [
    "test_data"
   ]
  },
  {
   "cell_type": "code",
   "execution_count": 33,
   "metadata": {},
   "outputs": [
    {
     "name": "stdout",
     "output_type": "stream",
     "text": [
      "예측값: [[0.5498014 ]\n",
      " [0.5491458 ]\n",
      " [0.9599404 ]\n",
      " [0.56801146]\n",
      " [0.99993587]\n",
      " [0.54226196]\n",
      " [0.86847144]\n",
      " [0.99698085]\n",
      " [0.9570921 ]\n",
      " [0.5404146 ]\n",
      " [0.86586356]\n",
      " [0.9485221 ]\n",
      " [0.54824555]\n",
      " [0.5568689 ]\n",
      " [1.        ]]\n"
     ]
    }
   ],
   "source": [
    "x_data = test_data\n",
    "\n",
    "X = tf.placeholder(tf.float32)\n",
    "# 신경망에 가중치 W과 편향 b을 적용합니다\n",
    "L = tf.add(tf.matmul(X, W), b)\n",
    "\n",
    "L = tf.nn.sigmoid(L)\n",
    "\n",
    "model = L\n",
    "\n",
    "prediction = model\n",
    "result = sess.run(prediction, feed_dict={X: x_data})\n",
    "\n",
    "print('예측값:', result)"
   ]
  },
  {
   "cell_type": "code",
   "execution_count": 34,
   "metadata": {},
   "outputs": [
    {
     "data": {
      "text/html": [
       "<div>\n",
       "<style scoped>\n",
       "    .dataframe tbody tr th:only-of-type {\n",
       "        vertical-align: middle;\n",
       "    }\n",
       "\n",
       "    .dataframe tbody tr th {\n",
       "        vertical-align: top;\n",
       "    }\n",
       "\n",
       "    .dataframe thead th {\n",
       "        text-align: right;\n",
       "    }\n",
       "</style>\n",
       "<table border=\"1\" class=\"dataframe\">\n",
       "  <thead>\n",
       "    <tr style=\"text-align: right;\">\n",
       "      <th></th>\n",
       "      <th>YYMMDD</th>\n",
       "      <th>ranking</th>\n",
       "      <th>title</th>\n",
       "      <th>artist</th>\n",
       "      <th>prediction</th>\n",
       "    </tr>\n",
       "  </thead>\n",
       "  <tbody>\n",
       "    <tr>\n",
       "      <th>0</th>\n",
       "      <td>180105</td>\n",
       "      <td>1</td>\n",
       "      <td>칠해줘</td>\n",
       "      <td>마마무(Mamamoo)</td>\n",
       "      <td>0.549801</td>\n",
       "    </tr>\n",
       "    <tr>\n",
       "      <th>1</th>\n",
       "      <td>180105</td>\n",
       "      <td>2</td>\n",
       "      <td>instagram</td>\n",
       "      <td>DEAN(딘)</td>\n",
       "      <td>0.549146</td>\n",
       "    </tr>\n",
       "    <tr>\n",
       "      <th>2</th>\n",
       "      <td>180105</td>\n",
       "      <td>3</td>\n",
       "      <td>그날처럼</td>\n",
       "      <td>장덕철</td>\n",
       "      <td>0.959940</td>\n",
       "    </tr>\n",
       "    <tr>\n",
       "      <th>3</th>\n",
       "      <td>180105</td>\n",
       "      <td>4</td>\n",
       "      <td>겨울소리</td>\n",
       "      <td>박효신</td>\n",
       "      <td>0.568011</td>\n",
       "    </tr>\n",
       "    <tr>\n",
       "      <th>4</th>\n",
       "      <td>180105</td>\n",
       "      <td>5</td>\n",
       "      <td>미안해</td>\n",
       "      <td>양다일</td>\n",
       "      <td>0.999936</td>\n",
       "    </tr>\n",
       "    <tr>\n",
       "      <th>5</th>\n",
       "      <td>180105</td>\n",
       "      <td>6</td>\n",
       "      <td>HeartShaker</td>\n",
       "      <td>TWICE(트와이스)</td>\n",
       "      <td>0.542262</td>\n",
       "    </tr>\n",
       "    <tr>\n",
       "      <th>6</th>\n",
       "      <td>180105</td>\n",
       "      <td>7</td>\n",
       "      <td>선물</td>\n",
       "      <td>멜로망스(MeloMance)</td>\n",
       "      <td>0.868471</td>\n",
       "    </tr>\n",
       "    <tr>\n",
       "      <th>7</th>\n",
       "      <td>180105</td>\n",
       "      <td>8</td>\n",
       "      <td>Havana(feat.YoungThug)</td>\n",
       "      <td>CamilaCabello(카밀라카베요)</td>\n",
       "      <td>0.996981</td>\n",
       "    </tr>\n",
       "    <tr>\n",
       "      <th>8</th>\n",
       "      <td>180105</td>\n",
       "      <td>9</td>\n",
       "      <td>추위</td>\n",
       "      <td>윤종신윤종신</td>\n",
       "      <td>0.957092</td>\n",
       "    </tr>\n",
       "    <tr>\n",
       "      <th>9</th>\n",
       "      <td>180105</td>\n",
       "      <td>10</td>\n",
       "      <td>좋았을걸</td>\n",
       "      <td>헤이즈(HEIZE)</td>\n",
       "      <td>0.540415</td>\n",
       "    </tr>\n",
       "    <tr>\n",
       "      <th>10</th>\n",
       "      <td>180105</td>\n",
       "      <td>11</td>\n",
       "      <td>비행운</td>\n",
       "      <td>문문(MoonMoon)</td>\n",
       "      <td>0.865864</td>\n",
       "    </tr>\n",
       "    <tr>\n",
       "      <th>11</th>\n",
       "      <td>180105</td>\n",
       "      <td>12</td>\n",
       "      <td>기억의빈자리</td>\n",
       "      <td>나얼(Na-Ul)</td>\n",
       "      <td>0.948522</td>\n",
       "    </tr>\n",
       "    <tr>\n",
       "      <th>12</th>\n",
       "      <td>180105</td>\n",
       "      <td>13</td>\n",
       "      <td>피카부(Peek-A-Boo)</td>\n",
       "      <td>RedVelvet(레드벨벳)</td>\n",
       "      <td>0.548246</td>\n",
       "    </tr>\n",
       "    <tr>\n",
       "      <th>13</th>\n",
       "      <td>180105</td>\n",
       "      <td>14</td>\n",
       "      <td>좋니</td>\n",
       "      <td>윤종신</td>\n",
       "      <td>0.556869</td>\n",
       "    </tr>\n",
       "    <tr>\n",
       "      <th>14</th>\n",
       "      <td>180105</td>\n",
       "      <td>15</td>\n",
       "      <td>고양이(feat.아이유)</td>\n",
       "      <td>선우정아(Sunwoojunga)</td>\n",
       "      <td>1.000000</td>\n",
       "    </tr>\n",
       "  </tbody>\n",
       "</table>\n",
       "</div>"
      ],
      "text/plain": [
       "    YYMMDD ranking                   title                 artist  prediction\n",
       "0   180105       1                     칠해줘           마마무(Mamamoo)    0.549801\n",
       "1   180105       2               instagram                DEAN(딘)    0.549146\n",
       "2   180105       3                    그날처럼                    장덕철    0.959940\n",
       "3   180105       4                    겨울소리                    박효신    0.568011\n",
       "4   180105       5                     미안해                    양다일    0.999936\n",
       "5   180105       6             HeartShaker            TWICE(트와이스)    0.542262\n",
       "6   180105       7                      선물        멜로망스(MeloMance)    0.868471\n",
       "7   180105       8  Havana(feat.YoungThug)  CamilaCabello(카밀라카베요)    0.996981\n",
       "8   180105       9                      추위                 윤종신윤종신    0.957092\n",
       "9   180105      10                    좋았을걸             헤이즈(HEIZE)    0.540415\n",
       "10  180105      11                     비행운           문문(MoonMoon)    0.865864\n",
       "11  180105      12                  기억의빈자리              나얼(Na-Ul)    0.948522\n",
       "12  180105      13         피카부(Peek-A-Boo)        RedVelvet(레드벨벳)    0.548246\n",
       "13  180105      14                      좋니                    윤종신    0.556869\n",
       "14  180105      15           고양이(feat.아이유)      선우정아(Sunwoojunga)    1.000000"
      ]
     },
     "execution_count": 34,
     "metadata": {},
     "output_type": "execute_result"
    }
   ],
   "source": [
    "df['prediction'] = result\n",
    "df"
   ]
  },
  {
   "cell_type": "code",
   "execution_count": null,
   "metadata": {},
   "outputs": [],
   "source": []
  }
 ],
 "metadata": {
  "kernelspec": {
   "display_name": "Python 3",
   "language": "python",
   "name": "python3"
  },
  "language_info": {
   "codemirror_mode": {
    "name": "ipython",
    "version": 3
   },
   "file_extension": ".py",
   "mimetype": "text/x-python",
   "name": "python",
   "nbconvert_exporter": "python",
   "pygments_lexer": "ipython3",
   "version": "3.6.7"
  }
 },
 "nbformat": 4,
 "nbformat_minor": 2
}
