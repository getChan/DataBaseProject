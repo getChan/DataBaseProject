{
 "cells": [
  {
   "cell_type": "markdown",
   "metadata": {},
   "source": [
    "# 차트 데이터 "
   ]
  },
  {
   "cell_type": "code",
   "execution_count": 1,
   "metadata": {},
   "outputs": [],
   "source": [
    "from dbQuery import dbQuery, dfFilter, dfPlot"
   ]
  },
  {
   "cell_type": "markdown",
   "metadata": {},
   "source": [
    "# 속성 추출\n",
    "1. 차트 진입후 5위 이내까지 진입한 일수\n",
    "2. 해당 곡 아티스트의 다른 곡이 차트에 진입한 일수\n",
    "3. 차트 진입 후 5위 이내까지 일간 랭킹 상승 평균치\n",
    "4. 네이버 트렌드와 음원차트의 상관계수\n",
    "5. and more..."
   ]
  },
  {
   "cell_type": "code",
   "execution_count": 2,
   "metadata": {},
   "outputs": [
    {
     "name": "stdout",
     "output_type": "stream",
     "text": [
      "                                                 title\n",
      "0                                         또하루(Feat.개코)\n",
      "1                                                   소녀\n",
      "2                                              걱정말아요그대\n",
      "3                                                 어땠을까\n",
      "4                                                   함께\n",
      "5                                 DADDY(Feat.CLof2NE1)\n",
      "6                                           혜화동(혹은쌍문동)\n",
      "7                                            OOH-AHH하게\n",
      "8                                                 나팔바지\n",
      "9                                  19금유레카(Feat.Zion.T)\n",
      "10                                        청춘(Feat.김창완)\n",
      "11                                               우주를건너\n",
      "12                                               또다시사랑\n",
      "13                    BoysAndGirls(Feat.Babylon(베이빌론))\n",
      "14                                               매일그대와\n",
      "15                                        네게줄수있는건오직사랑뿐\n",
      "16                                화이트(WHITE)(Feat.박재범)\n",
      "17                                 오늘부터우리는(Megustastu)\n",
      "18                                        I(Feat.버벌진트)\n",
      "19                                             HOTPINK\n",
      "20                                                 스물셋\n",
      "21                                    못먹는감(SourGrapes)\n",
      "22                                          SingForYou\n",
      "23                                               Hello\n",
      "24                                             사랑이맞을거야\n",
      "25                                                취향저격\n",
      "26                                            NoMakeUp\n",
      "27                                           사랑,어른이되는것\n",
      "28                                                아니라고\n",
      "29                              이럴거면그러지말지(Feat.YoungK)\n",
      "...                                                ...\n",
      "2576                  SomedayAtChristmas(애플크리스마스광고삽입곡)\n",
      "2577                                         다시사랑한다말할까\n",
      "2578                                  낮과밤(DayandNight)\n",
      "2579                                       Merry&Happy\n",
      "2580  BirthdayRemix(Feat.UglyDuck&Woodiegochild&Hoody)\n",
      "2581                           종이비행기(Hello)(Feat.pH-1)\n",
      "2582                                               Wet\n",
      "2583                           TheMagicofChristmasTime\n",
      "2584                                         LetItSnow\n",
      "2585                               ChristmaswithoutYou\n",
      "2586                                         CandyCane\n",
      "2587                                  겨울나무(I'mallears)\n",
      "2588                                 YouAreMyChristmas\n",
      "2589                                          쉿(Shhhh)\n",
      "2590                       기우는밤(Feat.긱스)(Prod.by프라이머리)\n",
      "2591                                          MarryYou\n",
      "2592                                너에게배웠어(Prod.by윤종신)\n",
      "2593                                               나침반\n",
      "2594                                              좋았을걸\n",
      "2595                                           우리도그들처럼\n",
      "2596                                  눈도오고그래서(Feat.범키)\n",
      "2597                                          연애는하니..?\n",
      "2598                                           다음에또만나요\n",
      "2599                     졸업(Prod.byFisherman)(Feat.죠지)\n",
      "2600                                 향수(Prod.byWOOGIE)\n",
      "2601                                            Gloria\n",
      "2602                                 UnderneathTheTree\n",
      "2603                                       놓지마(HoldMe)\n",
      "2604                                            Parade\n",
      "2605                                                추위\n",
      "\n",
      "[2606 rows x 1 columns]\n",
      "총 음원의 수 = 2606\n",
      "                                    title\n",
      "count                                2606\n",
      "unique                               2606\n",
      "top     19금아름다워(Beautiful)(Feat.지코(ZICO))\n",
      "freq                                    1\n"
     ]
    }
   ],
   "source": [
    "# 데이터베이스 내 음원의 수 = 학습시킬 레코드의 수\n",
    "\n",
    "# 쿼리문 입력\n",
    "query = \"\"\" SELECT DISTINCT title  FROM zuzak.genie; \"\"\"\n",
    "\n",
    "Chartdf = dbQuery(query)\n",
    "\n",
    "# 쿼리결과 없으면\n",
    "if Chartdf.empty:\n",
    "    print('결과 데이터가 없습니다.')\n",
    "\n",
    "# 쿼리 결과\n",
    "else :\n",
    "    print(Chartdf)\n",
    "    all_song = Chartdf\n",
    "    print('총 음원의 수 = '+str(len(Chartdf)))\n",
    "    #데이터 정보 출력\n",
    "    print(Chartdf.describe())\n"
   ]
  },
  {
   "cell_type": "code",
   "execution_count": 3,
   "metadata": {},
   "outputs": [
    {
     "data": {
      "text/html": [
       "<div>\n",
       "<style scoped>\n",
       "    .dataframe tbody tr th:only-of-type {\n",
       "        vertical-align: middle;\n",
       "    }\n",
       "\n",
       "    .dataframe tbody tr th {\n",
       "        vertical-align: top;\n",
       "    }\n",
       "\n",
       "    .dataframe thead th {\n",
       "        text-align: right;\n",
       "    }\n",
       "</style>\n",
       "<table border=\"1\" class=\"dataframe\">\n",
       "  <thead>\n",
       "    <tr style=\"text-align: right;\">\n",
       "      <th></th>\n",
       "      <th>title</th>\n",
       "    </tr>\n",
       "  </thead>\n",
       "  <tbody>\n",
       "    <tr>\n",
       "      <th>0</th>\n",
       "      <td>또하루(Feat.개코)</td>\n",
       "    </tr>\n",
       "    <tr>\n",
       "      <th>1</th>\n",
       "      <td>소녀</td>\n",
       "    </tr>\n",
       "    <tr>\n",
       "      <th>2</th>\n",
       "      <td>걱정말아요그대</td>\n",
       "    </tr>\n",
       "    <tr>\n",
       "      <th>3</th>\n",
       "      <td>어땠을까</td>\n",
       "    </tr>\n",
       "    <tr>\n",
       "      <th>4</th>\n",
       "      <td>함께</td>\n",
       "    </tr>\n",
       "  </tbody>\n",
       "</table>\n",
       "</div>"
      ],
      "text/plain": [
       "          title\n",
       "0  또하루(Feat.개코)\n",
       "1            소녀\n",
       "2       걱정말아요그대\n",
       "3          어땠을까\n",
       "4            함께"
      ]
     },
     "execution_count": 3,
     "metadata": {},
     "output_type": "execute_result"
    }
   ],
   "source": [
    "all_song.head()"
   ]
  },
  {
   "cell_type": "code",
   "execution_count": 4,
   "metadata": {},
   "outputs": [],
   "source": [
    "# 다른 노래 차트진입일\n",
    "def chartInDays(title, artist, dbname):\n",
    "    # 쿼리문 입력\n",
    "    query = \" SELECT * FROM zuzak.\"+dbname+\" where title != \\\"\"+title+\"\\\" and artist = \\\"\"+artist+\"\\\" and YYMMDD<= (select YYMMDD from zuzak.\"+dbname+\" where title = \\\"\"+title+\"\\\" order by YYMMDD limit 1); \"\n",
    "    \n",
    "    Chartdf = dbQuery(query)\n",
    "    Chartdf = dfFilter(Chartdf)\n",
    "    \n",
    "    \n",
    "    # 쿼리결과 없으면\n",
    "    if Chartdf.empty:\n",
    "        print('결과 데이터가 없습니다.')\n",
    "        return 0\n",
    "        \n",
    "    # 쿼리 결과\n",
    "    else :        \n",
    "        return len(Chartdf)"
   ]
  },
  {
   "cell_type": "code",
   "execution_count": 5,
   "metadata": {},
   "outputs": [
    {
     "data": {
      "text/plain": [
       "11"
      ]
     },
     "execution_count": 5,
     "metadata": {},
     "output_type": "execute_result"
    }
   ],
   "source": [
    "# 다른 노래 차트진입일\n",
    "chartInDays('좋니', '윤종신','mnet')"
   ]
  },
  {
   "cell_type": "code",
   "execution_count": 6,
   "metadata": {},
   "outputs": [],
   "source": [
    "# 랭킹 상승 평균치\n",
    "def rankIncreaseMean(title, dbname):\n",
    "    # 쿼리문 입력\n",
    "    query = \"\"\" SELECT * FROM zuzak.\"\"\"+dbname+\"\"\" where title = \\\"\"\"\"+title+\"\"\"\\\" and YYMMDD<=\n",
    "    (select YYMMDD from zuzak.\"\"\"+dbname+\"\"\" where title = \\\"\"\"\"+title+\"\"\"\\\" and cast(ranking as unsigned) <=5 order by YYMMDD limit 1); \"\"\"\n",
    "    \n",
    "    Chartdf = dbQuery(query)\n",
    "    Chartdf = dfFilter(Chartdf)\n",
    "    \n",
    "    # 쿼리결과 없으면\n",
    "    if Chartdf.empty:\n",
    "        print('결과 데이터가 없습니다.')\n",
    "        return 0\n",
    "        \n",
    "    # 쿼리 결과\n",
    "    elif len(Chartdf) == 1 :\n",
    "        sum = 100-Chartdf['ranking'][0]\n",
    "        return sum\n",
    "    \n",
    "    else:\n",
    "        sum = 0\n",
    "        a = len(Chartdf)\n",
    "        \n",
    "        for i in range(1, a):\n",
    "            num = (Chartdf['ranking'][i-1]) - (Chartdf['ranking'][i])\n",
    "            sum = sum + num\n",
    "        \n",
    "        return sum/(a-1)\n",
    "    "
   ]
  },
  {
   "cell_type": "code",
   "execution_count": 7,
   "metadata": {},
   "outputs": [
    {
     "name": "stdout",
     "output_type": "stream",
     "text": [
      "결과 데이터가 없습니다.\n"
     ]
    },
    {
     "data": {
      "text/plain": [
       "0"
      ]
     },
     "execution_count": 7,
     "metadata": {},
     "output_type": "execute_result"
    }
   ],
   "source": [
    "# 랭킹 상승 평균치\n",
    "a = \"I'mNotTheOnlyOne\"\n",
    "rankIncreaseMean(a,'genie')"
   ]
  },
  {
   "cell_type": "code",
   "execution_count": 8,
   "metadata": {},
   "outputs": [],
   "source": [
    "# 5위 진입 전까지 일수\n",
    "def rankInDays(title, dbname):\n",
    "    # 쿼리문 입력\n",
    "    query = \"\"\" SELECT * FROM zuzak.\"\"\"+dbname+\"\"\" where title = \\\"\"\"\"+title+\"\"\"\\\" and YYMMDD<=(SELECT YYMMDD FROM zuzak.\"\"\"+dbname+\"\"\" where title = \\\"\"\"\"+title+\"\"\"\\\" and cast(ranking as unsigned) <=5  order by YYMMDD limit 1); \"\"\"\n",
    "    Chartdf = dbQuery(query)\n",
    "    Chartdf = dfFilter(Chartdf)\n",
    "    \n",
    "    # 쿼리결과 없으면\n",
    "    if Chartdf.empty:\n",
    "        print('결과 데이터가 없습니다.')\n",
    "        return 0\n",
    "        \n",
    "    # 쿼리 결과\n",
    "    else :\n",
    "        return len(Chartdf)"
   ]
  },
  {
   "cell_type": "code",
   "execution_count": 9,
   "metadata": {},
   "outputs": [
    {
     "name": "stdout",
     "output_type": "stream",
     "text": [
      "결과 데이터가 없습니다.\n"
     ]
    },
    {
     "data": {
      "text/plain": [
       "0"
      ]
     },
     "execution_count": 9,
     "metadata": {},
     "output_type": "execute_result"
    }
   ],
   "source": [
    "rankInDays(a, 'bugs')"
   ]
  },
  {
   "cell_type": "markdown",
   "metadata": {},
   "source": [
    "# 신경망 코드"
   ]
  },
  {
   "cell_type": "code",
   "execution_count": 52,
   "metadata": {},
   "outputs": [],
   "source": [
    "import tensorflow as tf\n",
    "import numpy as np"
   ]
  },
  {
   "cell_type": "markdown",
   "metadata": {},
   "source": [
    "## 18. 8. 1 지니차트 기준 top 15 음원 대상 모델"
   ]
  },
  {
   "cell_type": "code",
   "execution_count": 53,
   "metadata": {},
   "outputs": [
    {
     "data": {
      "text/html": [
       "<div>\n",
       "<style scoped>\n",
       "    .dataframe tbody tr th:only-of-type {\n",
       "        vertical-align: middle;\n",
       "    }\n",
       "\n",
       "    .dataframe tbody tr th {\n",
       "        vertical-align: top;\n",
       "    }\n",
       "\n",
       "    .dataframe thead th {\n",
       "        text-align: right;\n",
       "    }\n",
       "</style>\n",
       "<table border=\"1\" class=\"dataframe\">\n",
       "  <thead>\n",
       "    <tr style=\"text-align: right;\">\n",
       "      <th></th>\n",
       "      <th>YYMMDD</th>\n",
       "      <th>ranking</th>\n",
       "      <th>title</th>\n",
       "      <th>artist</th>\n",
       "    </tr>\n",
       "  </thead>\n",
       "  <tbody>\n",
       "    <tr>\n",
       "      <th>0</th>\n",
       "      <td>180801</td>\n",
       "      <td>1</td>\n",
       "      <td>SoulMate(Feat.아이유)</td>\n",
       "      <td>지코(Zico)</td>\n",
       "    </tr>\n",
       "    <tr>\n",
       "      <th>1</th>\n",
       "      <td>180801</td>\n",
       "      <td>2</td>\n",
       "      <td>WayBackHome</td>\n",
       "      <td>숀(SHAUN)</td>\n",
       "    </tr>\n",
       "    <tr>\n",
       "      <th>2</th>\n",
       "      <td>180801</td>\n",
       "      <td>3</td>\n",
       "      <td>뚜두뚜두(DDU-DUDDU-DU)</td>\n",
       "      <td>BLACKPINK</td>\n",
       "    </tr>\n",
       "    <tr>\n",
       "      <th>3</th>\n",
       "      <td>180801</td>\n",
       "      <td>4</td>\n",
       "      <td>DanceTheNightAway</td>\n",
       "      <td>TWICE(트와이스)</td>\n",
       "    </tr>\n",
       "    <tr>\n",
       "      <th>4</th>\n",
       "      <td>180801</td>\n",
       "      <td>5</td>\n",
       "      <td>너나해(Egotistic)</td>\n",
       "      <td>마마무(Mamamoo)</td>\n",
       "    </tr>\n",
       "    <tr>\n",
       "      <th>5</th>\n",
       "      <td>180801</td>\n",
       "      <td>6</td>\n",
       "      <td>1도없어</td>\n",
       "      <td>Apink(에이핑크)</td>\n",
       "    </tr>\n",
       "    <tr>\n",
       "      <th>6</th>\n",
       "      <td>180801</td>\n",
       "      <td>7</td>\n",
       "      <td>여행</td>\n",
       "      <td>볼빨간사춘기</td>\n",
       "    </tr>\n",
       "    <tr>\n",
       "      <th>7</th>\n",
       "      <td>180801</td>\n",
       "      <td>8</td>\n",
       "      <td>LoveU</td>\n",
       "      <td>청하</td>\n",
       "    </tr>\n",
       "    <tr>\n",
       "      <th>8</th>\n",
       "      <td>180801</td>\n",
       "      <td>9</td>\n",
       "      <td>ForeverYoung</td>\n",
       "      <td>BLACKPINK</td>\n",
       "    </tr>\n",
       "    <tr>\n",
       "      <th>9</th>\n",
       "      <td>180801</td>\n",
       "      <td>10</td>\n",
       "      <td>모든날,모든순간(Everyday,EveryMoment)</td>\n",
       "      <td>폴킴</td>\n",
       "    </tr>\n",
       "    <tr>\n",
       "      <th>10</th>\n",
       "      <td>180801</td>\n",
       "      <td>11</td>\n",
       "      <td>동화</td>\n",
       "      <td>멜로망스(MeloMance)</td>\n",
       "    </tr>\n",
       "    <tr>\n",
       "      <th>11</th>\n",
       "      <td>180801</td>\n",
       "      <td>12</td>\n",
       "      <td>셋셀테니(1,2,3!)</td>\n",
       "      <td>승리</td>\n",
       "    </tr>\n",
       "    <tr>\n",
       "      <th>12</th>\n",
       "      <td>180801</td>\n",
       "      <td>13</td>\n",
       "      <td>여름여름해(SunnySummer)</td>\n",
       "      <td>여자친구(GFRIEND)</td>\n",
       "    </tr>\n",
       "    <tr>\n",
       "      <th>13</th>\n",
       "      <td>180801</td>\n",
       "      <td>14</td>\n",
       "      <td>너없인안된다</td>\n",
       "      <td>비투비</td>\n",
       "    </tr>\n",
       "    <tr>\n",
       "      <th>14</th>\n",
       "      <td>180801</td>\n",
       "      <td>15</td>\n",
       "      <td>지나오다</td>\n",
       "      <td>닐로(Nilo)</td>\n",
       "    </tr>\n",
       "  </tbody>\n",
       "</table>\n",
       "</div>"
      ],
      "text/plain": [
       "    YYMMDD ranking                           title           artist\n",
       "0   180801       1              SoulMate(Feat.아이유)         지코(Zico)\n",
       "1   180801       2                     WayBackHome         숀(SHAUN)\n",
       "2   180801       3              뚜두뚜두(DDU-DUDDU-DU)        BLACKPINK\n",
       "3   180801       4               DanceTheNightAway      TWICE(트와이스)\n",
       "4   180801       5                  너나해(Egotistic)     마마무(Mamamoo)\n",
       "5   180801       6                            1도없어      Apink(에이핑크)\n",
       "6   180801       7                              여행           볼빨간사춘기\n",
       "7   180801       8                           LoveU               청하\n",
       "8   180801       9                    ForeverYoung        BLACKPINK\n",
       "9   180801      10  모든날,모든순간(Everyday,EveryMoment)               폴킴\n",
       "10  180801      11                              동화  멜로망스(MeloMance)\n",
       "11  180801      12                    셋셀테니(1,2,3!)               승리\n",
       "12  180801      13              여름여름해(SunnySummer)    여자친구(GFRIEND)\n",
       "13  180801      14                          너없인안된다              비투비\n",
       "14  180801      15                            지나오다         닐로(Nilo)"
      ]
     },
     "execution_count": 53,
     "metadata": {},
     "output_type": "execute_result"
    }
   ],
   "source": [
    "df = dbQuery(\"SELECT * FROM zuzak.genie where ranking <=15 and YYMMDD = 180801\")\n",
    "df"
   ]
  },
  {
   "cell_type": "markdown",
   "metadata": {},
   "source": [
    "### 데이터 전처리"
   ]
  },
  {
   "cell_type": "code",
   "execution_count": 54,
   "metadata": {},
   "outputs": [
    {
     "data": {
      "text/plain": [
       "array([[0],\n",
       "       [1],\n",
       "       [0],\n",
       "       [0],\n",
       "       [0],\n",
       "       [0],\n",
       "       [0],\n",
       "       [0],\n",
       "       [0],\n",
       "       [0],\n",
       "       [0],\n",
       "       [0],\n",
       "       [0],\n",
       "       [0],\n",
       "       [1]])"
      ]
     },
     "execution_count": 54,
     "metadata": {},
     "output_type": "execute_result"
    }
   ],
   "source": [
    "# 주작 = 1\n",
    "# 여기선 지나오다, way back home 주작으로 가정\n",
    "labels = np.array([[0], [1], [0], [0], [0], [0], [0], [0], [0], [0], [0] ,[0], [0], [0], [1]])\n",
    "labels"
   ]
  },
  {
   "cell_type": "code",
   "execution_count": 61,
   "metadata": {},
   "outputs": [
    {
     "name": "stdout",
     "output_type": "stream",
     "text": [
      "결과 데이터가 없습니다.\n",
      "결과 데이터가 없습니다.\n"
     ]
    },
    {
     "data": {
      "text/plain": [
       "array([1578,    0, 1371, 2116, 1309,  216, 3699,  411, 1371,   93,  809,\n",
       "          1, 1418,  522,    0])"
      ]
     },
     "execution_count": 61,
     "metadata": {},
     "output_type": "execute_result"
    }
   ],
   "source": [
    "# 이전에 차트에 든 일수\n",
    "chartindays = np.fromiter(map(chartInDays, df['title'], df['artist'], ['genie']*len(df)), np.int32)\n",
    "chartindays"
   ]
  },
  {
   "cell_type": "code",
   "execution_count": 62,
   "metadata": {},
   "outputs": [
    {
     "name": "stdout",
     "output_type": "stream",
     "text": [
      "결과 데이터가 없습니다.\n",
      "결과 데이터가 없습니다.\n"
     ]
    },
    {
     "data": {
      "text/plain": [
       "array([6.33312223e-02, 1.40000000e+01, 7.28862974e-02, 4.67642891e-02,\n",
       "       1.52671756e-03, 9.21658986e-03, 2.70270270e-02, 2.40291262e-01,\n",
       "       7.14285714e-02, 2.12765957e-02, 1.22222222e-01, 5.00000000e-01,\n",
       "       7.04721635e-04, 1.85468451e-01, 7.00000000e+00])"
      ]
     },
     "execution_count": 62,
     "metadata": {},
     "output_type": "execute_result"
    }
   ],
   "source": [
    "# 랭킹 상승 평균값\n",
    "rankimean = np.fromiter(map(rankIncreaseMean, df['title'], ['genie']*len(df)), np.int32)\n",
    "rankimean = np.array((rankimean+1) / (chartindays+1))\n",
    "rankimean"
   ]
  },
  {
   "cell_type": "code",
   "execution_count": 63,
   "metadata": {},
   "outputs": [
    {
     "data": {
      "text/plain": [
       "[<matplotlib.lines.Line2D at 0x158a34c1198>]"
      ]
     },
     "execution_count": 63,
     "metadata": {},
     "output_type": "execute_result"
    },
    {
     "data": {
      "image/png": "[encoded data removed]",
      "text/plain": [
       "<Figure size 432x288 with 1 Axes>"
      ]
     },
     "metadata": {
      "needs_background": "light"
     },
     "output_type": "display_data"
    }
   ],
   "source": [
    "plt.plot(rankimean)"
   ]
  },
  {
   "cell_type": "code",
   "execution_count": 65,
   "metadata": {},
   "outputs": [
    {
     "name": "stdout",
     "output_type": "stream",
     "text": [
      "결과 데이터가 없습니다.\n",
      "결과 데이터가 없습니다.\n"
     ]
    },
    {
     "data": {
      "text/plain": [
       "array([6.73420660e-04, 1.50000000e+01, 7.81987097e-04, 4.94456443e-04,\n",
       "       7.64524212e-04, 4.65076770e-03, 2.77574872e-04, 3.01041568e-03,\n",
       "       7.80924615e-04, 1.08646446e-02, 1.38545953e-03, 7.50000000e-01,\n",
       "       7.05218268e-04, 2.26667008e-03, 8.00000000e+00])"
      ]
     },
     "execution_count": 65,
     "metadata": {},
     "output_type": "execute_result"
    }
   ],
   "source": [
    "# top5 진입 일수\n",
    "rankindays = np.fromiter(map(rankInDays, df['title'], ['genie']*len(df)), np.int32)\n",
    "rankindays = np.array((rankimean + 1) / (chartindays+1))\n",
    "rankindays"
   ]
  },
  {
   "cell_type": "code",
   "execution_count": 66,
   "metadata": {},
   "outputs": [
    {
     "data": {
      "text/plain": [
       "[<matplotlib.lines.Line2D at 0x158a3361fd0>]"
      ]
     },
     "execution_count": 66,
     "metadata": {},
     "output_type": "execute_result"
    },
    {
     "data": {
      "image/png": "[encoded data removed]",
      "text/plain": [
       "<Figure size 432x288 with 1 Axes>"
      ]
     },
     "metadata": {
      "needs_background": "light"
     },
     "output_type": "display_data"
    }
   ],
   "source": [
    "plt.plot(rankindays)"
   ]
  },
  {
   "cell_type": "code",
   "execution_count": 67,
   "metadata": {},
   "outputs": [
    {
     "data": {
      "text/plain": [
       "array([0.99937302, 0.01      , 0.99927843, 0.99953236, 0.99924427,\n",
       "       0.99543779, 0.99973243, 0.99759709, 0.99927843, 0.98946809,\n",
       "       0.99877778, 0.505     , 0.99930233, 0.99810707, 0.01      ])"
      ]
     },
     "execution_count": 67,
     "metadata": {},
     "output_type": "execute_result"
    }
   ],
   "source": [
    "chartindays = np.array((chartindays+0.01) / (chartindays+1))\n",
    "chartindays"
   ]
  },
  {
   "cell_type": "markdown",
   "metadata": {},
   "source": [
    "### 속성 합치기"
   ]
  },
  {
   "cell_type": "code",
   "execution_count": 68,
   "metadata": {},
   "outputs": [
    {
     "data": {
      "text/plain": [
       "array([[9.99373021e-01, 6.33312223e-02, 6.73420660e-04],\n",
       "       [1.00000000e-02, 1.40000000e+01, 1.50000000e+01],\n",
       "       [9.99278426e-01, 7.28862974e-02, 7.81987097e-04],\n",
       "       [9.99532357e-01, 4.67642891e-02, 4.94456443e-04],\n",
       "       [9.99244275e-01, 1.52671756e-03, 7.64524212e-04],\n",
       "       [9.95437788e-01, 9.21658986e-03, 4.65076770e-03],\n",
       "       [9.99732432e-01, 2.70270270e-02, 2.77574872e-04],\n",
       "       [9.97597087e-01, 2.40291262e-01, 3.01041568e-03],\n",
       "       [9.99278426e-01, 7.14285714e-02, 7.80924615e-04],\n",
       "       [9.89468085e-01, 2.12765957e-02, 1.08646446e-02],\n",
       "       [9.98777778e-01, 1.22222222e-01, 1.38545953e-03],\n",
       "       [5.05000000e-01, 5.00000000e-01, 7.50000000e-01],\n",
       "       [9.99302326e-01, 7.04721635e-04, 7.05218268e-04],\n",
       "       [9.98107075e-01, 1.85468451e-01, 2.26667008e-03],\n",
       "       [1.00000000e-02, 7.00000000e+00, 8.00000000e+00]])"
      ]
     },
     "execution_count": 68,
     "metadata": {},
     "output_type": "execute_result"
    }
   ],
   "source": [
    "data = np.array([chartindays, rankimean, rankindays]).T\n",
    "data"
   ]
  },
  {
   "cell_type": "code",
   "execution_count": 69,
   "metadata": {},
   "outputs": [
    {
     "name": "stdout",
     "output_type": "stream",
     "text": [
      "10 1.6689322e-07\n",
      "예측값: [[0.28556192]\n",
      " [1.        ]\n",
      " [0.2870657 ]\n",
      " [0.2829685 ]\n",
      " [0.27624464]\n",
      " [0.27888253]\n",
      " [0.27989483]\n",
      " [0.3142324 ]\n",
      " [0.28684187]\n",
      " [0.2830736 ]\n",
      " [0.29491603]\n",
      " [0.64652616]\n",
      " [0.27609888]\n",
      " [0.30518767]\n",
      " [0.9999975 ]]\n",
      "실제값: [[0.]\n",
      " [1.]\n",
      " [0.]\n",
      " [0.]\n",
      " [0.]\n",
      " [0.]\n",
      " [0.]\n",
      " [0.]\n",
      " [0.]\n",
      " [0.]\n",
      " [0.]\n",
      " [0.]\n",
      " [0.]\n",
      " [0.]\n",
      " [1.]]\n"
     ]
    }
   ],
   "source": [
    "# [chartindays, rankimean, rankindays]\n",
    "x_data = data\n",
    "\n",
    "# [기타, 포유류, 조류]\n",
    "# 다음과 같은 형식을 one-hot 형식의 데이터라고 합니다.\n",
    "y_data = labels\n",
    "\n",
    "#########\n",
    "# 신경망 모델 구성\n",
    "######\n",
    "X = tf.placeholder(tf.float32)\n",
    "Y = tf.placeholder(tf.float32)\n",
    "\n",
    "# 신경망은 2차원으로 [입력층(특성), 출력층(레이블)] -> [2, 3] 으로 정합니다.\n",
    "W = tf.Variable(tf.random_uniform([3, 1], -1., 1.))\n",
    "\n",
    "# 편향을 각각 각 레이어의 아웃풋 갯수로 설정합니다.\n",
    "# 편향은 아웃풋의 갯수, 즉 최종 결과값의 분류 갯수인 3으로 설정합니다.\n",
    "b = tf.Variable(tf.zeros([1]))\n",
    "\n",
    "# 신경망에 가중치 W과 편향 b을 적용합니다\n",
    "L = tf.add(tf.matmul(X, W), b)\n",
    "# 가중치와 편향을 이용해 계산한 결과 값에\n",
    "# 텐서플로우에서 기본적으로 제공하는 활성화 함수인 ReLU 함수를 적용합니다.\n",
    "L = tf.nn.sigmoid(L)\n",
    "\n",
    "# 마지막으로 softmax 함수를 이용하여 출력값을 사용하기 쉽게 만듭니다\n",
    "# softmax 함수는 다음처럼 결과값을 전체합이 1인 확률로 만들어주는 함수입니다.\n",
    "# 예) [8.04, 2.76, -6.52] -> [0.53 0.24 0.23]\n",
    "model = L\n",
    "\n",
    "# 신경망을 최적화하기 위한 비용 함수를 작성합니다.\n",
    "# 각 개별 결과에 대한 합을 구한 뒤 평균을 내는 방식을 사용합니다.\n",
    "# 전체 합이 아닌, 개별 결과를 구한 뒤 평균을 내는 방식을 사용하기 위해 axis 옵션을 사용합니다.\n",
    "# axis 옵션이 없으면 -1.09 처럼 총합인 스칼라값으로 출력됩니다.\n",
    "#        Y         model         Y * tf.log(model)   reduce_sum(axis=1)\n",
    "# 예) [[1 0 0]  [[0.1 0.7 0.2]  -> [[-1.0  0    0]  -> [-1.0, -0.09]\n",
    "#     [0 1 0]]  [0.2 0.8 0.0]]     [ 0   -0.09 0]]\n",
    "# 즉, 이것은 예측값과 실제값 사이의 확률 분포의 차이를 비용으로 계산한 것이며,\n",
    "# 이것을 Cross-Entropy 라고 합니다.\n",
    "cost = tf.reduce_mean(-tf.reduce_sum(Y * tf.log(model), axis=1))\n",
    "\n",
    "optimizer = tf.train.GradientDescentOptimizer(learning_rate=0.1)\n",
    "train_op = optimizer.minimize(cost)\n",
    "\n",
    "\n",
    "#########\n",
    "# 신경망 모델 학습\n",
    "######\n",
    "init = tf.global_variables_initializer()\n",
    "sess = tf.Session()\n",
    "sess.run(init)\n",
    "\n",
    "for step in range(10):\n",
    "    sess.run(train_op, feed_dict={X: x_data, Y: y_data})\n",
    "\n",
    "    if (step + 1) % 10 == 0:\n",
    "        print(step + 1, sess.run(cost, feed_dict={X: x_data, Y: y_data}))\n",
    "\n",
    "\n",
    "#########\n",
    "# 결과 확인\n",
    "# 0: 기타 1: 포유류, 2: 조류\n",
    "######/''''''''''''''''''''''''''''''''''''''''''''''''''''''\n",
    "# tf.argmax: 예측값과 실제값의 행렬에서 tf.argmax 를 이용해 가장 큰 값을 가져옵니다.\n",
    "# 예) [[0 1 0] [1 0 0]] -> [1 0]\n",
    "#    [[0.2 0.7 0.1] [0.9 0.1 0.]] -> [1 0]\n",
    "prediction = model\n",
    "target = Y\n",
    "print('예측값:', sess.run(prediction, feed_dict={X: x_data}))\n",
    "print('실제값:', sess.run(target, feed_dict={Y: y_data}))\n",
    "\n",
    "#is_correct = tf.equal(prediction, target)\n",
    "#accuracy = tf.reduce_mean(tf.cast(is_correct, tf.float32))\n",
    "#print('정확도: %.2f' % sess.run(accuracy * 100, feed_dict={X: x_data, Y: y_data}))"
   ]
  },
  {
   "cell_type": "code",
   "execution_count": 29,
   "metadata": {},
   "outputs": [
    {
     "data": {
      "text/plain": [
       "array([[0.],\n",
       "       [1.],\n",
       "       [0.],\n",
       "       [0.],\n",
       "       [0.],\n",
       "       [0.],\n",
       "       [0.],\n",
       "       [0.],\n",
       "       [0.],\n",
       "       [0.],\n",
       "       [0.],\n",
       "       [0.],\n",
       "       [0.],\n",
       "       [0.],\n",
       "       [1.]], dtype=float32)"
      ]
     },
     "execution_count": 29,
     "metadata": {},
     "output_type": "execute_result"
    }
   ],
   "source": [
    "sess.run(target, feed_dict={Y:y_data})"
   ]
  },
  {
   "cell_type": "code",
   "execution_count": 30,
   "metadata": {},
   "outputs": [
    {
     "data": {
      "text/plain": [
       "array([[1.        ],\n",
       "       [0.9879169 ],\n",
       "       [1.        ],\n",
       "       [1.        ],\n",
       "       [0.55226916],\n",
       "       [0.5524175 ],\n",
       "       [1.        ],\n",
       "       [1.        ],\n",
       "       [1.        ],\n",
       "       [0.55265015],\n",
       "       [1.        ],\n",
       "       [0.4878125 ],\n",
       "       [0.46837515],\n",
       "       [1.        ],\n",
       "       [0.8857731 ]], dtype=float32)"
      ]
     },
     "execution_count": 30,
     "metadata": {},
     "output_type": "execute_result"
    }
   ],
   "source": [
    "sess.run(prediction, feed_dict={X: x_data})"
   ]
  },
  {
   "cell_type": "code",
   "execution_count": 31,
   "metadata": {},
   "outputs": [],
   "source": [
    "from matplotlib import pyplot as plt"
   ]
  },
  {
   "cell_type": "code",
   "execution_count": 36,
   "metadata": {},
   "outputs": [
    {
     "data": {
      "text/plain": [
       "array([[9.99373021e-01, 9.90000063e+01, 9.90000127e+01],\n",
       "       [1.00000000e-02, 1.30100000e+01, 1.30200000e+01],\n",
       "       [9.99278426e-01, 9.90000073e+01, 9.90000146e+01],\n",
       "       [9.99532357e-01, 9.80000047e+01, 9.80000094e+01],\n",
       "       [9.99244275e-01, 1.00000763e+00, 1.00001527e+00],\n",
       "       [9.95437788e-01, 1.00004608e+00, 1.00009217e+00],\n",
       "       [9.99732432e-01, 9.90000027e+01, 9.90000054e+01],\n",
       "       [9.97597087e-01, 9.80000243e+01, 9.80000485e+01],\n",
       "       [9.99278426e-01, 9.70000073e+01, 9.70000146e+01],\n",
       "       [9.89468085e-01, 1.00010638e+00, 1.00021277e+00],\n",
       "       [9.98777778e-01, 9.80000123e+01, 9.80000247e+01],\n",
       "       [5.05000000e-01, 5.00000000e-03, 1.00000000e-02],\n",
       "       [9.99302326e-01, 7.04721635e-06, 1.40944327e-05],\n",
       "       [9.98107075e-01, 9.60000191e+01, 9.60000382e+01],\n",
       "       [1.00000000e-02, 6.01000000e+00, 6.02000000e+00]])"
      ]
     },
     "execution_count": 36,
     "metadata": {},
     "output_type": "execute_result"
    }
   ],
   "source": [
    "data"
   ]
  },
  {
   "cell_type": "code",
   "execution_count": 38,
   "metadata": {},
   "outputs": [
    {
     "data": {
      "text/plain": [
       "[<matplotlib.lines.Line2D at 0x158a2f319b0>]"
      ]
     },
     "execution_count": 38,
     "metadata": {},
     "output_type": "execute_result"
    },
    {
     "data": {
      "image/png": "[encoded data removed]",
      "text/plain": [
       "<Figure size 432x288 with 1 Axes>"
      ]
     },
     "metadata": {
      "needs_background": "light"
     },
     "output_type": "display_data"
    }
   ],
   "source": [
    "plt.plot(data.T[0])"
   ]
  },
  {
   "cell_type": "code",
   "execution_count": 44,
   "metadata": {},
   "outputs": [
    {
     "data": {
      "text/plain": [
       "[<matplotlib.lines.Line2D at 0x158a31204e0>]"
      ]
     },
     "execution_count": 44,
     "metadata": {},
     "output_type": "execute_result"
    },
    {
     "data": {
      "image/png": "[encoded data removed]",
      "text/plain": [
       "<Figure size 432x288 with 1 Axes>"
      ]
     },
     "metadata": {
      "needs_background": "light"
     },
     "output_type": "display_data"
    }
   ],
   "source": [
    "plt.plot(data.T[1])"
   ]
  },
  {
   "cell_type": "code",
   "execution_count": 41,
   "metadata": {},
   "outputs": [
    {
     "data": {
      "text/plain": [
       "array([0.99937302, 0.01      , 0.99927843, 0.99953236, 0.99924427,\n",
       "       0.99543779, 0.99973243, 0.99759709, 0.99927843, 0.98946809,\n",
       "       0.99877778, 0.505     , 0.99930233, 0.99810707, 0.01      ])"
      ]
     },
     "execution_count": 41,
     "metadata": {},
     "output_type": "execute_result"
    }
   ],
   "source": [
    "data.T[0]"
   ]
  },
  {
   "cell_type": "code",
   "execution_count": 51,
   "metadata": {},
   "outputs": [
    {
     "data": {
      "text/plain": [
       "[<matplotlib.lines.Line2D at 0x158a3250470>]"
      ]
     },
     "execution_count": 51,
     "metadata": {},
     "output_type": "execute_result"
    },
    {
     "data": {
      "image/png": "[encoded data removed]",
      "text/plain": [
       "<Figure size 432x288 with 1 Axes>"
      ]
     },
     "metadata": {
      "needs_background": "light"
     },
     "output_type": "display_data"
    }
   ],
   "source": [
    "plt.plot(rankindays)"
   ]
  }
 ],
 "metadata": {
  "kernelspec": {
   "display_name": "Python 3",
   "language": "python",
   "name": "python3"
  },
  "language_info": {
   "codemirror_mode": {
    "name": "ipython",
    "version": 3
   },
   "file_extension": ".py",
   "mimetype": "text/x-python",
   "name": "python",
   "nbconvert_exporter": "python",
   "pygments_lexer": "ipython3",
   "version": "3.6.7"
  }
 },
 "nbformat": 4,
 "nbformat_minor": 2
}
