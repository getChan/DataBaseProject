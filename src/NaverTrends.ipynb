{
 "cells": [
  {
   "cell_type": "code",
   "execution_count": 6,
   "metadata": {},
   "outputs": [],
   "source": [
    "#-*- coding: utf-8 -*-\n",
    "import sys\n",
    "import urllib.request"
   ]
  },
  {
   "cell_type": "code",
   "execution_count": 7,
   "metadata": {},
   "outputs": [
    {
     "name": "stdout",
     "output_type": "stream",
     "text": [
      "{\"startDate\":\"2018-01-01\",\"endDate\":\"2018-02-08\",\"timeUnit\":\"date\",\"results\":[{\"title\":\"그날처럼\",\"keywords\":[\"그날처럼\"],\"data\":[{\"period\":\"2018-01-01\",\"ratio\":32.17334},{\"period\":\"2018-01-02\",\"ratio\":34.41515},{\"period\":\"2018-01-03\",\"ratio\":34.94981},{\"period\":\"2018-01-04\",\"ratio\":34.75283},{\"period\":\"2018-01-05\",\"ratio\":45.38973},{\"period\":\"2018-01-06\",\"ratio\":100},{\"period\":\"2018-01-07\",\"ratio\":74.09248},{\"period\":\"2018-01-08\",\"ratio\":70.12475},{\"period\":\"2018-01-09\",\"ratio\":67.36703},{\"period\":\"2018-01-10\",\"ratio\":73.77356},{\"period\":\"2018-01-11\",\"ratio\":70.15289},{\"period\":\"2018-01-12\",\"ratio\":68.06115},{\"period\":\"2018-01-13\",\"ratio\":72.46036},{\"period\":\"2018-01-14\",\"ratio\":73.58596},{\"period\":\"2018-01-15\",\"ratio\":71.93509},{\"period\":\"2018-01-16\",\"ratio\":70.37801},{\"period\":\"2018-01-17\",\"ratio\":67.76099},{\"period\":\"2018-01-18\",\"ratio\":67.86417},{\"period\":\"2018-01-19\",\"ratio\":66.28834},{\"period\":\"2018-01-20\",\"ratio\":75.2556},{\"period\":\"2018-01-21\",\"ratio\":89.97279},{\"period\":\"2018-01-22\",\"ratio\":75.61204},{\"period\":\"2018-01-23\",\"ratio\":68.23937},{\"period\":\"2018-01-24\",\"ratio\":68.53953},{\"period\":\"2018-01-25\",\"ratio\":68.63333},{\"period\":\"2018-01-26\",\"ratio\":66.04446},{\"period\":\"2018-01-27\",\"ratio\":70.91267},{\"period\":\"2018-01-28\",\"ratio\":68.01425},{\"period\":\"2018-01-29\",\"ratio\":65.03142},{\"period\":\"2018-01-30\",\"ratio\":60.75415},{\"period\":\"2018-01-31\",\"ratio\":61.8985},{\"period\":\"2018-02-01\",\"ratio\":60.11631},{\"period\":\"2018-02-02\",\"ratio\":60.51027},{\"period\":\"2018-02-03\",\"ratio\":65.76306},{\"period\":\"2018-02-04\",\"ratio\":61.72966},{\"period\":\"2018-02-05\",\"ratio\":58.74683},{\"period\":\"2018-02-06\",\"ratio\":58.71869},{\"period\":\"2018-02-07\",\"ratio\":58.19341},{\"period\":\"2018-02-08\",\"ratio\":60.10693}]}]}\n"
     ]
    }
   ],
   "source": [
    "client_id = \"_X9iNbtxufWnpoN9n0gx\"\n",
    "client_secret = \"xUdZWWvtJJ\"\n",
    "url = \"https://openapi.naver.com/v1/datalab/search\";\n",
    "#\"{\\\"startDate\\\":\\\"2018-01-01\\\", \\\"endDate\\\":\\\"2018-02-08\\\", \\\"timeUnit\\\":\\\"date\\\", \\\"keywordGroups\\\": [ { \\\"groupName\\\":\\\"그날처럼\\\", \\\"keywords\\\": [ \\\"그날처럼\\\", \\\"그날처럼\\\"]}, ],}\";\n",
    "body = \"{\\\"startDate\\\":\\\"2018-01-01\\\",\\\"endDate\\\":\\\"2018-02-08\\\",\\\"timeUnit\\\":\\\"date\\\",\\\"keywordGroups\\\":[{\\\"groupName\\\":\\\"그날처럼\\\",\\\"keywords\\\":[\\\"그날처럼\\\"]}]}\";\n",
    "\n",
    "request = urllib.request.Request(url)\n",
    "request.add_header(\"X-Naver-Client-Id\",client_id)\n",
    "request.add_header(\"X-Naver-Client-Secret\",client_secret)\n",
    "request.add_header(\"Content-Type\",\"application/json\")\n",
    "response = urllib.request.urlopen(request, data=body.encode(\"utf-8\"))\n",
    "rescode = response.getcode()\n",
    "if(rescode==200):\n",
    "    response_body = response.read()\n",
    "    print(response_body.decode('utf-8'))\n",
    "else:\n",
    "    print(\"Error Code:\" + rescode)"
   ]
  },
  {
   "cell_type": "code",
   "execution_count": 8,
   "metadata": {},
   "outputs": [],
   "source": [
    "import pandas as pd\n",
    "import json"
   ]
  },
  {
   "cell_type": "code",
   "execution_count": 9,
   "metadata": {},
   "outputs": [],
   "source": [
    "jsondata = json.loads(response_body.decode())"
   ]
  },
  {
   "cell_type": "code",
   "execution_count": 10,
   "metadata": {},
   "outputs": [
    {
     "data": {
      "text/plain": [
       "[{'period': '2018-01-01', 'ratio': 32.17334},\n",
       " {'period': '2018-01-02', 'ratio': 34.41515},\n",
       " {'period': '2018-01-03', 'ratio': 34.94981},\n",
       " {'period': '2018-01-04', 'ratio': 34.75283},\n",
       " {'period': '2018-01-05', 'ratio': 45.38973},\n",
       " {'period': '2018-01-06', 'ratio': 100},\n",
       " {'period': '2018-01-07', 'ratio': 74.09248},\n",
       " {'period': '2018-01-08', 'ratio': 70.12475},\n",
       " {'period': '2018-01-09', 'ratio': 67.36703},\n",
       " {'period': '2018-01-10', 'ratio': 73.77356},\n",
       " {'period': '2018-01-11', 'ratio': 70.15289},\n",
       " {'period': '2018-01-12', 'ratio': 68.06115},\n",
       " {'period': '2018-01-13', 'ratio': 72.46036},\n",
       " {'period': '2018-01-14', 'ratio': 73.58596},\n",
       " {'period': '2018-01-15', 'ratio': 71.93509},\n",
       " {'period': '2018-01-16', 'ratio': 70.37801},\n",
       " {'period': '2018-01-17', 'ratio': 67.76099},\n",
       " {'period': '2018-01-18', 'ratio': 67.86417},\n",
       " {'period': '2018-01-19', 'ratio': 66.28834},\n",
       " {'period': '2018-01-20', 'ratio': 75.2556},\n",
       " {'period': '2018-01-21', 'ratio': 89.97279},\n",
       " {'period': '2018-01-22', 'ratio': 75.61204},\n",
       " {'period': '2018-01-23', 'ratio': 68.23937},\n",
       " {'period': '2018-01-24', 'ratio': 68.53953},\n",
       " {'period': '2018-01-25', 'ratio': 68.63333},\n",
       " {'period': '2018-01-26', 'ratio': 66.04446},\n",
       " {'period': '2018-01-27', 'ratio': 70.91267},\n",
       " {'period': '2018-01-28', 'ratio': 68.01425},\n",
       " {'period': '2018-01-29', 'ratio': 65.03142},\n",
       " {'period': '2018-01-30', 'ratio': 60.75415},\n",
       " {'period': '2018-01-31', 'ratio': 61.8985},\n",
       " {'period': '2018-02-01', 'ratio': 60.11631},\n",
       " {'period': '2018-02-02', 'ratio': 60.51027},\n",
       " {'period': '2018-02-03', 'ratio': 65.76306},\n",
       " {'period': '2018-02-04', 'ratio': 61.72966},\n",
       " {'period': '2018-02-05', 'ratio': 58.74683},\n",
       " {'period': '2018-02-06', 'ratio': 58.71869},\n",
       " {'period': '2018-02-07', 'ratio': 58.19341},\n",
       " {'period': '2018-02-08', 'ratio': 60.10693}]"
      ]
     },
     "execution_count": 10,
     "metadata": {},
     "output_type": "execute_result"
    }
   ],
   "source": [
    "tmp = jsondata['results'][0]['data']\n",
    "tmp"
   ]
  },
  {
   "cell_type": "code",
   "execution_count": 11,
   "metadata": {},
   "outputs": [
    {
     "data": {
      "text/html": [
       "<div>\n",
       "<style scoped>\n",
       "    .dataframe tbody tr th:only-of-type {\n",
       "        vertical-align: middle;\n",
       "    }\n",
       "\n",
       "    .dataframe tbody tr th {\n",
       "        vertical-align: top;\n",
       "    }\n",
       "\n",
       "    .dataframe thead th {\n",
       "        text-align: right;\n",
       "    }\n",
       "</style>\n",
       "<table border=\"1\" class=\"dataframe\">\n",
       "  <thead>\n",
       "    <tr style=\"text-align: right;\">\n",
       "      <th></th>\n",
       "      <th>period</th>\n",
       "      <th>ratio</th>\n",
       "    </tr>\n",
       "  </thead>\n",
       "  <tbody>\n",
       "    <tr>\n",
       "      <th>0</th>\n",
       "      <td>2018-01-01</td>\n",
       "      <td>32.17334</td>\n",
       "    </tr>\n",
       "    <tr>\n",
       "      <th>1</th>\n",
       "      <td>2018-01-02</td>\n",
       "      <td>34.41515</td>\n",
       "    </tr>\n",
       "    <tr>\n",
       "      <th>2</th>\n",
       "      <td>2018-01-03</td>\n",
       "      <td>34.94981</td>\n",
       "    </tr>\n",
       "    <tr>\n",
       "      <th>3</th>\n",
       "      <td>2018-01-04</td>\n",
       "      <td>34.75283</td>\n",
       "    </tr>\n",
       "    <tr>\n",
       "      <th>4</th>\n",
       "      <td>2018-01-05</td>\n",
       "      <td>45.38973</td>\n",
       "    </tr>\n",
       "  </tbody>\n",
       "</table>\n",
       "</div>"
      ],
      "text/plain": [
       "       period     ratio\n",
       "0  2018-01-01  32.17334\n",
       "1  2018-01-02  34.41515\n",
       "2  2018-01-03  34.94981\n",
       "3  2018-01-04  34.75283\n",
       "4  2018-01-05  45.38973"
      ]
     },
     "execution_count": 11,
     "metadata": {},
     "output_type": "execute_result"
    }
   ],
   "source": [
    "df = pd.DataFrame(tmp)\n",
    "df.head()"
   ]
  },
  {
   "cell_type": "code",
   "execution_count": 12,
   "metadata": {},
   "outputs": [
    {
     "data": {
      "text/html": [
       "<div>\n",
       "<style scoped>\n",
       "    .dataframe tbody tr th:only-of-type {\n",
       "        vertical-align: middle;\n",
       "    }\n",
       "\n",
       "    .dataframe tbody tr th {\n",
       "        vertical-align: top;\n",
       "    }\n",
       "\n",
       "    .dataframe thead th {\n",
       "        text-align: right;\n",
       "    }\n",
       "</style>\n",
       "<table border=\"1\" class=\"dataframe\">\n",
       "  <thead>\n",
       "    <tr style=\"text-align: right;\">\n",
       "      <th></th>\n",
       "      <th>ratio</th>\n",
       "    </tr>\n",
       "    <tr>\n",
       "      <th>period</th>\n",
       "      <th></th>\n",
       "    </tr>\n",
       "  </thead>\n",
       "  <tbody>\n",
       "    <tr>\n",
       "      <th>2018-01-01</th>\n",
       "      <td>32.17334</td>\n",
       "    </tr>\n",
       "    <tr>\n",
       "      <th>2018-01-02</th>\n",
       "      <td>34.41515</td>\n",
       "    </tr>\n",
       "    <tr>\n",
       "      <th>2018-01-03</th>\n",
       "      <td>34.94981</td>\n",
       "    </tr>\n",
       "    <tr>\n",
       "      <th>2018-01-04</th>\n",
       "      <td>34.75283</td>\n",
       "    </tr>\n",
       "    <tr>\n",
       "      <th>2018-01-05</th>\n",
       "      <td>45.38973</td>\n",
       "    </tr>\n",
       "  </tbody>\n",
       "</table>\n",
       "</div>"
      ],
      "text/plain": [
       "               ratio\n",
       "period              \n",
       "2018-01-01  32.17334\n",
       "2018-01-02  34.41515\n",
       "2018-01-03  34.94981\n",
       "2018-01-04  34.75283\n",
       "2018-01-05  45.38973"
      ]
     },
     "execution_count": 12,
     "metadata": {},
     "output_type": "execute_result"
    }
   ],
   "source": [
    "df.index = df.period\n",
    "del df['period']\n",
    "df.head()"
   ]
  },
  {
   "cell_type": "code",
   "execution_count": 13,
   "metadata": {},
   "outputs": [
    {
     "data": {
      "text/html": [
       "<div>\n",
       "<style scoped>\n",
       "    .dataframe tbody tr th:only-of-type {\n",
       "        vertical-align: middle;\n",
       "    }\n",
       "\n",
       "    .dataframe tbody tr th {\n",
       "        vertical-align: top;\n",
       "    }\n",
       "\n",
       "    .dataframe thead th {\n",
       "        text-align: right;\n",
       "    }\n",
       "</style>\n",
       "<table border=\"1\" class=\"dataframe\">\n",
       "  <thead>\n",
       "    <tr style=\"text-align: right;\">\n",
       "      <th></th>\n",
       "      <th>ratio</th>\n",
       "    </tr>\n",
       "    <tr>\n",
       "      <th>period</th>\n",
       "      <th></th>\n",
       "    </tr>\n",
       "  </thead>\n",
       "  <tbody>\n",
       "    <tr>\n",
       "      <th>2018-02-04</th>\n",
       "      <td>61.72966</td>\n",
       "    </tr>\n",
       "    <tr>\n",
       "      <th>2018-02-05</th>\n",
       "      <td>58.74683</td>\n",
       "    </tr>\n",
       "    <tr>\n",
       "      <th>2018-02-06</th>\n",
       "      <td>58.71869</td>\n",
       "    </tr>\n",
       "    <tr>\n",
       "      <th>2018-02-07</th>\n",
       "      <td>58.19341</td>\n",
       "    </tr>\n",
       "    <tr>\n",
       "      <th>2018-02-08</th>\n",
       "      <td>60.10693</td>\n",
       "    </tr>\n",
       "  </tbody>\n",
       "</table>\n",
       "</div>"
      ],
      "text/plain": [
       "               ratio\n",
       "period              \n",
       "2018-02-04  61.72966\n",
       "2018-02-05  58.74683\n",
       "2018-02-06  58.71869\n",
       "2018-02-07  58.19341\n",
       "2018-02-08  60.10693"
      ]
     },
     "execution_count": 13,
     "metadata": {},
     "output_type": "execute_result"
    }
   ],
   "source": [
    "df.tail()"
   ]
  },
  {
   "cell_type": "code",
   "execution_count": 14,
   "metadata": {},
   "outputs": [],
   "source": [
    "from matplotlib import pyplot as plt"
   ]
  },
  {
   "cell_type": "code",
   "execution_count": 15,
   "metadata": {},
   "outputs": [
    {
     "data": {
      "image/png": "[encoded data removed]",
      "text/plain": [
       "<Figure size 432x288 with 1 Axes>"
      ]
     },
     "metadata": {
      "needs_background": "light"
     },
     "output_type": "display_data"
    }
   ],
   "source": [
    "df.plot()\n",
    "plt.show()"
   ]
  },
  {
   "cell_type": "code",
   "execution_count": 13,
   "metadata": {},
   "outputs": [
    {
     "data": {
      "text/html": [
       "<div>\n",
       "<style scoped>\n",
       "    .dataframe tbody tr th:only-of-type {\n",
       "        vertical-align: middle;\n",
       "    }\n",
       "\n",
       "    .dataframe tbody tr th {\n",
       "        vertical-align: top;\n",
       "    }\n",
       "\n",
       "    .dataframe thead th {\n",
       "        text-align: right;\n",
       "    }\n",
       "</style>\n",
       "<table border=\"1\" class=\"dataframe\">\n",
       "  <thead>\n",
       "    <tr style=\"text-align: right;\">\n",
       "      <th></th>\n",
       "      <th>ratio</th>\n",
       "    </tr>\n",
       "  </thead>\n",
       "  <tbody>\n",
       "    <tr>\n",
       "      <th>count</th>\n",
       "      <td>39.000000</td>\n",
       "    </tr>\n",
       "    <tr>\n",
       "      <th>mean</th>\n",
       "      <td>64.572280</td>\n",
       "    </tr>\n",
       "    <tr>\n",
       "      <th>std</th>\n",
       "      <td>13.610394</td>\n",
       "    </tr>\n",
       "    <tr>\n",
       "      <th>min</th>\n",
       "      <td>32.173340</td>\n",
       "    </tr>\n",
       "    <tr>\n",
       "      <th>25%</th>\n",
       "      <td>60.313290</td>\n",
       "    </tr>\n",
       "    <tr>\n",
       "      <th>50%</th>\n",
       "      <td>67.760990</td>\n",
       "    </tr>\n",
       "    <tr>\n",
       "      <th>75%</th>\n",
       "      <td>70.645340</td>\n",
       "    </tr>\n",
       "    <tr>\n",
       "      <th>max</th>\n",
       "      <td>100.000000</td>\n",
       "    </tr>\n",
       "  </tbody>\n",
       "</table>\n",
       "</div>"
      ],
      "text/plain": [
       "            ratio\n",
       "count   39.000000\n",
       "mean    64.572280\n",
       "std     13.610394\n",
       "min     32.173340\n",
       "25%     60.313290\n",
       "50%     67.760990\n",
       "75%     70.645340\n",
       "max    100.000000"
      ]
     },
     "execution_count": 13,
     "metadata": {},
     "output_type": "execute_result"
    }
   ],
   "source": [
    "#data = pd.read_json(df[\"results\"])\n",
    "df.describe()"
   ]
  },
  {
   "cell_type": "code",
   "execution_count": 14,
   "metadata": {},
   "outputs": [
    {
     "data": {
      "text/html": [
       "<div>\n",
       "<style scoped>\n",
       "    .dataframe tbody tr th:only-of-type {\n",
       "        vertical-align: middle;\n",
       "    }\n",
       "\n",
       "    .dataframe tbody tr th {\n",
       "        vertical-align: top;\n",
       "    }\n",
       "\n",
       "    .dataframe thead th {\n",
       "        text-align: right;\n",
       "    }\n",
       "</style>\n",
       "<table border=\"1\" class=\"dataframe\">\n",
       "  <thead>\n",
       "    <tr style=\"text-align: right;\">\n",
       "      <th></th>\n",
       "      <th>ratio</th>\n",
       "    </tr>\n",
       "  </thead>\n",
       "  <tbody>\n",
       "    <tr>\n",
       "      <th>ratio</th>\n",
       "      <td>1.0</td>\n",
       "    </tr>\n",
       "  </tbody>\n",
       "</table>\n",
       "</div>"
      ],
      "text/plain": [
       "       ratio\n",
       "ratio    1.0"
      ]
     },
     "execution_count": 14,
     "metadata": {},
     "output_type": "execute_result"
    }
   ],
   "source": [
    "df.corr(method='pearson')"
   ]
  },
  {
   "cell_type": "code",
   "execution_count": null,
   "metadata": {},
   "outputs": [],
   "source": []
  }
 ],
 "metadata": {
  "kernelspec": {
   "display_name": "Python 3",
   "language": "python",
   "name": "python3"
  },
  "language_info": {
   "codemirror_mode": {
    "name": "ipython",
    "version": 3
   },
   "file_extension": ".py",
   "mimetype": "text/x-python",
   "name": "python",
   "nbconvert_exporter": "python",
   "pygments_lexer": "ipython3",
   "version": "3.6.7"
  }
 },
 "nbformat": 4,
 "nbformat_minor": 2
}
