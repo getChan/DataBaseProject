{
 "cells": [
  {
   "cell_type": "markdown",
   "metadata": {},
   "source": [
    "# 차트 데이터 "
   ]
  },
  {
   "cell_type": "code",
   "execution_count": 1,
   "metadata": {},
   "outputs": [],
   "source": [
    "import pymysql\n",
    "import pandas as pd\n",
    "from matplotlib import pyplot as plt\n",
    "%matplotlib inline"
   ]
  },
  {
   "cell_type": "code",
   "execution_count": 2,
   "metadata": {},
   "outputs": [],
   "source": [
    "# 쿼리를 입력하면 db에 있는 데이터를 pandas DataFrame형태로 반환\n",
    "def dbQuery(query):\n",
    "    \n",
    "    conn = pymysql.connect(host='zuzak.cvqcrkck1aqg.us-east-1.rds.amazonaws.com', user='getChan', password='cksdl951!!',db='zuzak', charset='euckr')\n",
    "    q = query\n",
    "    try:\n",
    "        with conn.cursor() as cursor:\n",
    "            df = pd.read_sql(q, con=conn)\n",
    "            cursor.fetchall()\n",
    "    finally:\n",
    "        conn.close()\n",
    "        return df\n",
    "\n",
    "# DataFrame 전처리 함수.\n",
    "def dfFilter(dataFrame):\n",
    "    df = dataFrame.set_index(\"YYMMDD\")\n",
    "    df.ranking =pd.to_numeric(df.ranking)\n",
    "\n",
    "    return df\n",
    "\n",
    "# dataFrame 시각화\n",
    "def dfPlot(dataFrame):\n",
    "    dataFrame.plot()\n",
    "    plt.gca().invert_yaxis()\n",
    "    plt.ylabel('ranking')\n",
    "    plt.show()\n"
   ]
  },
  {
   "cell_type": "code",
   "execution_count": 3,
   "metadata": {},
   "outputs": [
    {
     "name": "stdout",
     "output_type": "stream",
     "text": [
      "        ranking title artist\n",
      "YYMMDD                      \n",
      "170702       69    좋니    윤종신\n",
      "170703       65    좋니    윤종신\n",
      "170704       72    좋니    윤종신\n",
      "170705       83    좋니    윤종신\n",
      "170706       81    좋니    윤종신\n",
      "170707       70    좋니    윤종신\n",
      "170708       63    좋니    윤종신\n",
      "170709       58    좋니    윤종신\n",
      "170710       53    좋니    윤종신\n",
      "170711       52    좋니    윤종신\n",
      "170712       45    좋니    윤종신\n",
      "170713       37    좋니    윤종신\n",
      "170714       33    좋니    윤종신\n",
      "170715       31    좋니    윤종신\n",
      "170716       28    좋니    윤종신\n",
      "170717       27    좋니    윤종신\n",
      "170718       37    좋니    윤종신\n",
      "170719       38    좋니    윤종신\n",
      "170720       30    좋니    윤종신\n",
      "170721       28    좋니    윤종신\n",
      "170722       29    좋니    윤종신\n",
      "170723       26    좋니    윤종신\n",
      "170724       26    좋니    윤종신\n",
      "170725       27    좋니    윤종신\n",
      "170726       26    좋니    윤종신\n",
      "170727       26    좋니    윤종신\n",
      "170728       23    좋니    윤종신\n",
      "170729       24    좋니    윤종신\n",
      "170730       22    좋니    윤종신\n",
      "170731       19    좋니    윤종신\n",
      "170801       19    좋니    윤종신\n",
      "170802       19    좋니    윤종신\n",
      "170803       16    좋니    윤종신\n",
      "170804       21    좋니    윤종신\n",
      "170805       26    좋니    윤종신\n",
      "170806       24    좋니    윤종신\n",
      "170807       25    좋니    윤종신\n",
      "170808       22    좋니    윤종신\n",
      "170809       19    좋니    윤종신\n",
      "170810       14    좋니    윤종신\n",
      "170811       10    좋니    윤종신\n",
      "170812       12    좋니    윤종신\n",
      "170813        8    좋니    윤종신\n",
      "170814        2    좋니    윤종신\n",
      "170815        1    좋니    윤종신\n",
      "170816        2    좋니    윤종신\n",
      "170817        1    좋니    윤종신\n",
      "170818        1    좋니    윤종신\n",
      "170819        2    좋니    윤종신\n",
      "170820        1    좋니    윤종신\n",
      "170821        1    좋니    윤종신\n",
      "총 차트 진입일 = 51\n"
     ]
    },
    {
     "data": {
      "image/png": "[encoded data removed]",
      "text/plain": [
       "<Figure size 432x288 with 1 Axes>"
      ]
     },
     "metadata": {
      "needs_background": "light"
     },
     "output_type": "display_data"
    },
    {
     "name": "stdout",
     "output_type": "stream",
     "text": [
      "         ranking\n",
      "count  51.000000\n",
      "mean   29.294118\n",
      "std    21.881768\n",
      "min     1.000000\n",
      "25%    17.500000\n",
      "50%    26.000000\n",
      "75%    37.000000\n",
      "max    83.000000\n",
      "         ranking\n",
      "ranking      1.0\n"
     ]
    }
   ],
   "source": [
    "# 메인함수\n",
    "if __name__ == \"__main__\":\n",
    "    # 쿼리문 입력\n",
    "    query = \"\"\" SELECT * FROM zuzak.genie where title = '지나오다' order by YYMMDD; \"\"\"\n",
    "    \n",
    "    Chartdf = dbQuery(query)\n",
    "    Chartdf = dfFilter(Chartdf)\n",
    "    \n",
    "    # 쿼리결과 없으면\n",
    "    if Chartdf.empty:\n",
    "        print('결과 데이터가 없습니다.')\n",
    "        \n",
    "    # 쿼리 결과\n",
    "    else :\n",
    "        print(Chartdf)\n",
    "        \n",
    "        print('총 차트 진입일 = '+str(len(Chartdf)))\n",
    "        \n",
    "        #시각화\n",
    "        dfPlot(Chartdf)\n",
    "\n",
    "        #데이터 정보 출력\n",
    "        print(Chartdf.describe())\n",
    "\n",
    "        #데이터 피어슨 상관계수\n",
    "        print(Chartdf.corr(method='pearson'))\n",
    "        "
   ]
  },
  {
   "cell_type": "markdown",
   "metadata": {},
   "source": [
    "# 네이버트렌드"
   ]
  },
  {
   "cell_type": "code",
   "execution_count": 4,
   "metadata": {},
   "outputs": [],
   "source": [
    "#-*- coding: utf-8 -*-\n",
    "import urllib.request\n",
    "import json"
   ]
  },
  {
   "cell_type": "code",
   "execution_count": 5,
   "metadata": {},
   "outputs": [
    {
     "name": "stdout",
     "output_type": "stream",
     "text": [
      "                ratio\n",
      "period               \n",
      "2017-07-01    2.29612\n",
      "2017-07-02    5.69618\n",
      "2017-07-03    4.20540\n",
      "2017-07-04    3.54937\n",
      "2017-07-05    2.87297\n",
      "2017-07-06    3.44983\n",
      "2017-07-07    3.38423\n",
      "2017-07-08    3.28243\n",
      "2017-07-09    3.59461\n",
      "2017-07-10    3.30505\n",
      "2017-07-11    3.18968\n",
      "2017-07-12    3.61950\n",
      "2017-07-13    3.32541\n",
      "2017-07-14    4.27553\n",
      "2017-07-15    4.11039\n",
      "2017-07-16    4.08551\n",
      "2017-07-17    4.22350\n",
      "2017-07-18    3.71903\n",
      "2017-07-19    4.04705\n",
      "2017-07-20    4.24838\n",
      "2017-07-21    4.53794\n",
      "2017-07-22    4.49044\n",
      "2017-07-23    4.22350\n",
      "2017-07-24    4.59902\n",
      "2017-07-25    4.72344\n",
      "2017-07-26    4.76642\n",
      "2017-07-27    5.51747\n",
      "2017-07-28    5.91788\n",
      "2017-07-29    6.53093\n",
      "2017-07-30    6.40425\n",
      "2017-07-31    6.97658\n",
      "2017-08-01    7.00599\n",
      "2017-08-02    7.09195\n",
      "2017-08-03    8.02624\n",
      "2017-08-04    8.89492\n",
      "2017-08-05    8.14161\n",
      "2017-08-06    8.36330\n",
      "2017-08-07    9.41974\n",
      "2017-08-08   10.21830\n",
      "2017-08-09    9.55548\n",
      "2017-08-10   10.55762\n",
      "2017-08-11   13.95995\n",
      "2017-08-12   13.30392\n",
      "2017-08-13   11.72039\n",
      "2017-08-14   12.07781\n",
      "2017-08-15   24.39316\n",
      "2017-08-16   67.35663\n",
      "2017-08-17   68.01266\n",
      "2017-08-18   67.62357\n",
      "2017-08-19  100.00000\n",
      "2017-08-20   54.63409\n",
      "2017-08-21   60.65151\n",
      "결과 레코드 수 = 52\n"
     ]
    },
    {
     "data": {
      "image/png": "[encoded data removed]",
      "text/plain": [
       "<Figure size 432x288 with 1 Axes>"
      ]
     },
     "metadata": {
      "needs_background": "light"
     },
     "output_type": "display_data"
    },
    {
     "name": "stdout",
     "output_type": "stream",
     "text": [
      "            ratio\n",
      "count   52.000000\n",
      "mean    13.734171\n",
      "std     21.339809\n",
      "min      2.296120\n",
      "25%      4.075895\n",
      "50%      5.606825\n",
      "75%      9.721185\n",
      "max    100.000000\n",
      "       ratio\n",
      "ratio    1.0\n"
     ]
    }
   ],
   "source": [
    "def NaverTrend():\n",
    "    client_id = \"_X9iNbtxufWnpoN9n0gx\"\n",
    "    client_secret = \"xUdZWWvtJJ\"\n",
    "    url = \"https://openapi.naver.com/v1/datalab/search\";\n",
    "\n",
    "    body = \"\"\"{\n",
    "            \\\"startDate\\\":\\\"2017-07-01\\\",\n",
    "            \\\"endDate\\\":\\\"2017-08-21\\\",\n",
    "            \\\"timeUnit\\\":\\\"date\\\",\n",
    "            \\\"keywordGroups\\\":\n",
    "                [\n",
    "                    {\n",
    "                    \\\"groupName\\\":\\\"좋니\\\",\n",
    "                    \\\"keywords\\\":\n",
    "                        [\n",
    "                        \\\"좋니\\\"\n",
    "                        ]\n",
    "                    }\n",
    "                ]\n",
    "            }\"\"\";\n",
    "\n",
    "    request = urllib.request.Request(url)\n",
    "    request.add_header(\"X-Naver-Client-Id\",client_id)\n",
    "    request.add_header(\"X-Naver-Client-Secret\",client_secret)\n",
    "    request.add_header(\"Content-Type\",\"application/json\")\n",
    "    response = urllib.request.urlopen(request, data=body.encode(\"utf-8\"))\n",
    "    rescode = response.getcode()\n",
    "    if(rescode==200):\n",
    "        response_body = response.read()\n",
    "    else:\n",
    "        print(\"Error Code:\" + rescode)\n",
    "\n",
    "        \n",
    "    # plotting\n",
    "    naver = response_body\n",
    "    jsondata = json.loads(naver.decode())\n",
    "    \n",
    "    # 검색 데이터 필터링\n",
    "    tmp = jsondata['results'][0]['data']\n",
    "    df = pd.DataFrame(tmp)\n",
    "    df.index = df.period\n",
    "    del df['period']\n",
    "    \n",
    "    return df\n",
    "    \n",
    "    # 메인함수\n",
    "if __name__ == \"__main__\":\n",
    "    Naverdf = NaverTrend()\n",
    "    print(Naverdf)\n",
    "    print('결과 레코드 수 = '+str(len(Naverdf)))\n",
    "    Naverdf.plot()\n",
    "    plt.show()\n",
    "\n",
    "    #데이터 정보 출력\n",
    "    print(Naverdf.describe())\n",
    "\n",
    "    #데이터 피어슨 상관계수\n",
    "    print(Naverdf.corr(method='pearson'))\n"
   ]
  },
  {
   "cell_type": "markdown",
   "metadata": {},
   "source": [
    "# 상관분석"
   ]
  },
  {
   "cell_type": "code",
   "execution_count": 6,
   "metadata": {},
   "outputs": [],
   "source": [
    "# 데이터프레임 합치기\n",
    "def MergeData(naver, chart):\n",
    "    # Naverdf 조정\n",
    "    naver.rename(columns={'ratio':'naver'}, index={'period':'YYMMDD'},inplace=True)\n",
    "    naver.index = naver.index.map(lambda x : x[2:4]+x[5:7]+x[8:10])\n",
    "    naver.index.names = ['YYMMDD']\n",
    "    df = pd.concat([Chartdf, Naverdf], axis=1, join_axes=[Naverdf.index])\n",
    "    # ranking 값 뒤집기\n",
    "    df.ranking = df.ranking.map(lambda x: (101-x))\n",
    "    return df"
   ]
  },
  {
   "cell_type": "code",
   "execution_count": 7,
   "metadata": {},
   "outputs": [],
   "source": [
    "if __name__=='__main__':\n",
    "    df = MergeData(Naverdf, Chartdf)"
   ]
  },
  {
   "cell_type": "code",
   "execution_count": 18,
   "metadata": {},
   "outputs": [
    {
     "data": {
      "image/png": "[encoded data removed]",
      "text/plain": [
       "<Figure size 432x288 with 1 Axes>"
      ]
     },
     "metadata": {
      "needs_background": "light"
     },
     "output_type": "display_data"
    }
   ],
   "source": [
    "df.plot()\n",
    "plt.xlim(df.index[0], df.index[-1])\n",
    "plt.show()"
   ]
  },
  {
   "cell_type": "code",
   "execution_count": 20,
   "metadata": {},
   "outputs": [
    {
     "data": {
      "text/html": [
       "<div>\n",
       "<style scoped>\n",
       "    .dataframe tbody tr th:only-of-type {\n",
       "        vertical-align: middle;\n",
       "    }\n",
       "\n",
       "    .dataframe tbody tr th {\n",
       "        vertical-align: top;\n",
       "    }\n",
       "\n",
       "    .dataframe thead th {\n",
       "        text-align: right;\n",
       "    }\n",
       "</style>\n",
       "<table border=\"1\" class=\"dataframe\">\n",
       "  <thead>\n",
       "    <tr style=\"text-align: right;\">\n",
       "      <th></th>\n",
       "      <th>ranking</th>\n",
       "      <th>naver</th>\n",
       "    </tr>\n",
       "  </thead>\n",
       "  <tbody>\n",
       "    <tr>\n",
       "      <th>ranking</th>\n",
       "      <td>1.00000</td>\n",
       "      <td>0.55116</td>\n",
       "    </tr>\n",
       "    <tr>\n",
       "      <th>naver</th>\n",
       "      <td>0.55116</td>\n",
       "      <td>1.00000</td>\n",
       "    </tr>\n",
       "  </tbody>\n",
       "</table>\n",
       "</div>"
      ],
      "text/plain": [
       "         ranking    naver\n",
       "ranking  1.00000  0.55116\n",
       "naver    0.55116  1.00000"
      ]
     },
     "execution_count": 20,
     "metadata": {},
     "output_type": "execute_result"
    }
   ],
   "source": [
    "df.corr(method='pearson')"
   ]
  },
  {
   "cell_type": "code",
   "execution_count": 22,
   "metadata": {},
   "outputs": [
    {
     "data": {
      "text/html": [
       "<div>\n",
       "<style scoped>\n",
       "    .dataframe tbody tr th:only-of-type {\n",
       "        vertical-align: middle;\n",
       "    }\n",
       "\n",
       "    .dataframe tbody tr th {\n",
       "        vertical-align: top;\n",
       "    }\n",
       "\n",
       "    .dataframe thead th {\n",
       "        text-align: right;\n",
       "    }\n",
       "</style>\n",
       "<table border=\"1\" class=\"dataframe\">\n",
       "  <thead>\n",
       "    <tr style=\"text-align: right;\">\n",
       "      <th></th>\n",
       "      <th>ranking</th>\n",
       "      <th>title</th>\n",
       "      <th>artist</th>\n",
       "      <th>naver</th>\n",
       "    </tr>\n",
       "    <tr>\n",
       "      <th>YYMMDD</th>\n",
       "      <th></th>\n",
       "      <th></th>\n",
       "      <th></th>\n",
       "      <th></th>\n",
       "    </tr>\n",
       "  </thead>\n",
       "  <tbody>\n",
       "    <tr>\n",
       "      <th>170701</th>\n",
       "      <td>NaN</td>\n",
       "      <td>NaN</td>\n",
       "      <td>NaN</td>\n",
       "      <td>2.29612</td>\n",
       "    </tr>\n",
       "    <tr>\n",
       "      <th>170702</th>\n",
       "      <td>32.0</td>\n",
       "      <td>좋니</td>\n",
       "      <td>윤종신</td>\n",
       "      <td>5.69618</td>\n",
       "    </tr>\n",
       "    <tr>\n",
       "      <th>170703</th>\n",
       "      <td>36.0</td>\n",
       "      <td>좋니</td>\n",
       "      <td>윤종신</td>\n",
       "      <td>4.20540</td>\n",
       "    </tr>\n",
       "    <tr>\n",
       "      <th>170704</th>\n",
       "      <td>29.0</td>\n",
       "      <td>좋니</td>\n",
       "      <td>윤종신</td>\n",
       "      <td>3.54937</td>\n",
       "    </tr>\n",
       "    <tr>\n",
       "      <th>170705</th>\n",
       "      <td>18.0</td>\n",
       "      <td>좋니</td>\n",
       "      <td>윤종신</td>\n",
       "      <td>2.87297</td>\n",
       "    </tr>\n",
       "  </tbody>\n",
       "</table>\n",
       "</div>"
      ],
      "text/plain": [
       "        ranking title artist    naver\n",
       "YYMMDD                               \n",
       "170701      NaN   NaN    NaN  2.29612\n",
       "170702     32.0    좋니    윤종신  5.69618\n",
       "170703     36.0    좋니    윤종신  4.20540\n",
       "170704     29.0    좋니    윤종신  3.54937\n",
       "170705     18.0    좋니    윤종신  2.87297"
      ]
     },
     "execution_count": 22,
     "metadata": {},
     "output_type": "execute_result"
    }
   ],
   "source": [
    "df.head()"
   ]
  },
  {
   "cell_type": "markdown",
   "metadata": {},
   "source": [
    "# 속성 추출\n",
    "1. 차트 진입후 5위 이내까지 진입한 일수\n",
    "2. 해당 곡 아티스트의 다른 곡이 차트에 진입한 일수\n",
    "3. 차트 진입 후 5위 이내까지 일간 랭킹 상승 평균치\n",
    "4. 네이버 트렌드와 음원차트의 상관계수\n",
    "5. and more..."
   ]
  },
  {
   "cell_type": "markdown",
   "metadata": {},
   "source": []
  }
 ],
 "metadata": {
  "kernelspec": {
   "display_name": "Python 3",
   "language": "python",
   "name": "python3"
  },
  "language_info": {
   "codemirror_mode": {
    "name": "ipython",
    "version": 3
   },
   "file_extension": ".py",
   "mimetype": "text/x-python",
   "name": "python",
   "nbconvert_exporter": "python",
   "pygments_lexer": "ipython3",
   "version": "3.6.7"
  }
 },
 "nbformat": 4,
 "nbformat_minor": 2
}
