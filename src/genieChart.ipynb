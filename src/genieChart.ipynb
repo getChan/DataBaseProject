{
 "cells": [
  {
   "cell_type": "markdown",
   "metadata": {},
   "source": [
    "# 차트 데이터 "
   ]
  },
  {
   "cell_type": "code",
   "execution_count": 12,
   "metadata": {},
   "outputs": [],
   "source": [
    "import pymysql\n",
    "import pandas as pd\n",
    "from matplotlib import pyplot as plt\n",
    "%matplotlib inline"
   ]
  },
  {
   "cell_type": "code",
   "execution_count": 13,
   "metadata": {},
   "outputs": [],
   "source": [
    "# 쿼리를 입력하면 db에 있는 데이터를 pandas DataFrame형태로 반환\n",
    "def dbQuery(query):\n",
    "    \n",
    "    conn = pymysql.connect(host='zuzak.cvqcrkck1aqg.us-east-1.rds.amazonaws.com', user='getChan', password='cksdl951!!',db='zuzak', charset='euckr')\n",
    "    q = query\n",
    "    try:\n",
    "        with conn.cursor() as cursor:\n",
    "            df = pd.read_sql(q, con=conn)\n",
    "            cursor.fetchall()\n",
    "    finally:\n",
    "        conn.close()\n",
    "        return df\n",
    "\n",
    "# DataFrame 전처리 함수.\n",
    "def dfFilter(dataFrame):\n",
    "    df = dataFrame.set_index(\"YYMMDD\")\n",
    "    df.ranking =pd.to_numeric(df.ranking)\n",
    "\n",
    "    return df\n",
    "\n",
    "# dataFrame 시각화\n",
    "def dfPlot(dataFrame):\n",
    "    dataFrame.plot()\n",
    "    plt.gca().invert_yaxis()\n",
    "    plt.ylabel('ranking')\n",
    "    plt.show()\n"
   ]
  },
  {
   "cell_type": "code",
   "execution_count": 39,
   "metadata": {},
   "outputs": [
    {
     "name": "stdout",
     "output_type": "stream",
     "text": [
      "        ranking title artist\n",
      "YYMMDD                      \n",
      "170702       69    좋니    윤종신\n",
      "170703       65    좋니    윤종신\n",
      "170704       72    좋니    윤종신\n",
      "170705       83    좋니    윤종신\n",
      "170706       81    좋니    윤종신\n",
      "170707       70    좋니    윤종신\n",
      "170708       63    좋니    윤종신\n",
      "170709       58    좋니    윤종신\n",
      "170710       53    좋니    윤종신\n",
      "170711       52    좋니    윤종신\n",
      "170712       45    좋니    윤종신\n",
      "170713       37    좋니    윤종신\n",
      "170714       33    좋니    윤종신\n",
      "170715       31    좋니    윤종신\n",
      "170716       28    좋니    윤종신\n",
      "170717       27    좋니    윤종신\n",
      "170718       37    좋니    윤종신\n",
      "170719       38    좋니    윤종신\n",
      "170720       30    좋니    윤종신\n",
      "170721       28    좋니    윤종신\n",
      "170722       29    좋니    윤종신\n",
      "170723       26    좋니    윤종신\n",
      "170724       26    좋니    윤종신\n",
      "170725       27    좋니    윤종신\n",
      "170726       26    좋니    윤종신\n",
      "170727       26    좋니    윤종신\n",
      "170728       23    좋니    윤종신\n",
      "170729       24    좋니    윤종신\n",
      "170730       22    좋니    윤종신\n",
      "170731       19    좋니    윤종신\n",
      "170801       19    좋니    윤종신\n",
      "170802       19    좋니    윤종신\n",
      "170803       16    좋니    윤종신\n",
      "170804       21    좋니    윤종신\n",
      "170805       26    좋니    윤종신\n",
      "170806       24    좋니    윤종신\n",
      "170807       25    좋니    윤종신\n",
      "170808       22    좋니    윤종신\n",
      "170809       19    좋니    윤종신\n",
      "170810       14    좋니    윤종신\n",
      "170811       10    좋니    윤종신\n",
      "170812       12    좋니    윤종신\n",
      "170813        8    좋니    윤종신\n",
      "170814        2    좋니    윤종신\n",
      "170815        1    좋니    윤종신\n",
      "총 차트 진입일 = 45\n"
     ]
    },
    {
     "data": {
      "image/png": "[encoded data removed]",
      "text/plain": [
       "<Figure size 432x288 with 1 Axes>"
      ]
     },
     "metadata": {
      "needs_background": "light"
     },
     "output_type": "display_data"
    },
    {
     "name": "stdout",
     "output_type": "stream",
     "text": [
      "         ranking\n",
      "count  45.000000\n",
      "mean   33.022222\n",
      "std    20.573028\n",
      "min     1.000000\n",
      "25%    21.000000\n",
      "50%    26.000000\n",
      "75%    38.000000\n",
      "max    83.000000\n",
      "         ranking\n",
      "ranking      1.0\n"
     ]
    }
   ],
   "source": [
    "# 메인함수\n",
    "if __name__ == \"__main__\":\n",
    "    # 쿼리문 입력\n",
    "    query = \"\"\" SELECT * FROM zuzak.genie where title = '좋니' and YYMMDD<=170815 order by YYMMDD; \"\"\"\n",
    "    \n",
    "    Chartdf = dbQuery(query)\n",
    "    Chartdf = dfFilter(Chartdf)\n",
    "    \n",
    "    # 쿼리결과 없으면\n",
    "    if Chartdf.empty:\n",
    "        print('결과 데이터가 없습니다.')\n",
    "        \n",
    "    # 쿼리 결과\n",
    "    else :\n",
    "        print(Chartdf)\n",
    "        \n",
    "        print('총 차트 진입일 = '+str(len(Chartdf)))\n",
    "        \n",
    "        #시각화\n",
    "        dfPlot(Chartdf)\n",
    "\n",
    "        #데이터 정보 출력\n",
    "        print(Chartdf.describe())\n",
    "\n",
    "        #데이터 피어슨 상관계수\n",
    "        print(Chartdf.corr(method='pearson'))\n",
    "        "
   ]
  },
  {
   "cell_type": "markdown",
   "metadata": {},
   "source": [
    "# 네이버트렌드"
   ]
  },
  {
   "cell_type": "code",
   "execution_count": 15,
   "metadata": {},
   "outputs": [],
   "source": [
    "#-*- coding: utf-8 -*-\n",
    "import urllib.request\n",
    "import json"
   ]
  },
  {
   "cell_type": "code",
   "execution_count": 40,
   "metadata": {},
   "outputs": [
    {
     "name": "stdout",
     "output_type": "stream",
     "text": [
      "                ratio\n",
      "period               \n",
      "2017-07-02   42.26882\n",
      "2017-07-03   22.12120\n",
      "2017-07-04   19.03253\n",
      "2017-07-05   15.56372\n",
      "2017-07-06   16.96708\n",
      "2017-07-07   18.00297\n",
      "2017-07-08   16.27649\n",
      "2017-07-09   17.04945\n",
      "2017-07-10   16.40320\n",
      "2017-07-11   15.56688\n",
      "2017-07-12   17.19834\n",
      "2017-07-13   17.23318\n",
      "2017-07-14   20.03357\n",
      "2017-07-15   19.82766\n",
      "2017-07-16   19.98922\n",
      "2017-07-17   19.29229\n",
      "2017-07-18   18.49716\n",
      "2017-07-19   18.05049\n",
      "2017-07-20   18.80127\n",
      "2017-07-21   19.97022\n",
      "2017-07-22   19.79915\n",
      "2017-07-23   18.68723\n",
      "2017-07-24   19.39683\n",
      "2017-07-25   19.77064\n",
      "2017-07-26   19.85617\n",
      "2017-07-27   22.16555\n",
      "2017-07-28   23.30598\n",
      "2017-07-29   26.10004\n",
      "2017-07-30   24.84873\n",
      "2017-07-31   26.04935\n",
      "2017-08-01   26.37247\n",
      "2017-08-02   27.59844\n",
      "2017-08-03   29.71140\n",
      "2017-08-04   31.98276\n",
      "2017-08-05   29.70823\n",
      "2017-08-06   30.45902\n",
      "2017-08-07   33.26575\n",
      "2017-08-08   35.51810\n",
      "2017-08-09   34.21611\n",
      "2017-08-10   37.17806\n",
      "2017-08-11   53.27082\n",
      "2017-08-12   46.78620\n",
      "2017-08-13   41.69544\n",
      "2017-08-14   43.13682\n",
      "2017-08-15  100.00000\n",
      "결과 레코드 수 = 45\n"
     ]
    },
    {
     "data": {
      "image/png": "[encoded data removed]",
      "text/plain": [
       "<Figure size 432x288 with 1 Axes>"
      ]
     },
     "metadata": {
      "needs_background": "light"
     },
     "output_type": "display_data"
    },
    {
     "name": "stdout",
     "output_type": "stream",
     "text": [
      "            ratio\n",
      "count   45.000000\n",
      "mean    26.867223\n",
      "std     14.530688\n",
      "min     15.563720\n",
      "25%     18.687230\n",
      "50%     20.033570\n",
      "75%     30.459020\n",
      "max    100.000000\n"
     ]
    }
   ],
   "source": [
    "def NaverTrend():\n",
    "    client_id = \"_X9iNbtxufWnpoN9n0gx\"\n",
    "    client_secret = \"xUdZWWvtJJ\"\n",
    "    url = \"https://openapi.naver.com/v1/datalab/search\";\n",
    "\n",
    "    body = \"\"\"{\n",
    "            \\\"startDate\\\":\\\"2017-07-02\\\",\n",
    "            \\\"endDate\\\":\\\"2017-08-15\\\",\n",
    "            \\\"timeUnit\\\":\\\"date\\\",\n",
    "            \\\"keywordGroups\\\":\n",
    "                [\n",
    "                    {\n",
    "                    \\\"groupName\\\":\\\"좋니\\\",\n",
    "                    \\\"keywords\\\":\n",
    "                        [\n",
    "                        \\\"좋니\\\",\n",
    "                        \\\"윤종신 좋니\\\",\n",
    "                        \\\"좋니 윤종신\\\"\n",
    "                        ]\n",
    "                    }\n",
    "                ]\n",
    "            }\"\"\";\n",
    "\n",
    "    request = urllib.request.Request(url)\n",
    "    request.add_header(\"X-Naver-Client-Id\",client_id)\n",
    "    request.add_header(\"X-Naver-Client-Secret\",client_secret)\n",
    "    request.add_header(\"Content-Type\",\"application/json\")\n",
    "    response = urllib.request.urlopen(request, data=body.encode(\"utf-8\"))\n",
    "    rescode = response.getcode()\n",
    "    if(rescode==200):\n",
    "        response_body = response.read()\n",
    "    else:\n",
    "        print(\"Error Code:\" + rescode)\n",
    "\n",
    "        \n",
    "    # plotting\n",
    "    naver = response_body\n",
    "    jsondata = json.loads(naver.decode())\n",
    "    \n",
    "    # 검색 데이터 필터링\n",
    "    tmp = jsondata['results'][0]['data']\n",
    "    df = pd.DataFrame(tmp)\n",
    "    df.index = df.period\n",
    "    del df['period']\n",
    "    \n",
    "    return df\n",
    "    \n",
    "    # 메인함수\n",
    "if __name__ == \"__main__\":\n",
    "    Naverdf = NaverTrend()\n",
    "    print(Naverdf)\n",
    "    print('결과 레코드 수 = '+str(len(Naverdf)))\n",
    "    Naverdf.plot()\n",
    "    plt.show()\n",
    "\n",
    "    #데이터 정보 출력\n",
    "    print(Naverdf.describe())\n"
   ]
  },
  {
   "cell_type": "markdown",
   "metadata": {},
   "source": [
    "# 상관분석"
   ]
  },
  {
   "cell_type": "code",
   "execution_count": 41,
   "metadata": {},
   "outputs": [],
   "source": [
    "# 데이터프레임 합치기\n",
    "def MergeData(naver, chart):\n",
    "    # Naverdf 조정\n",
    "    naver.rename(columns={'ratio':'naver'}, index={'period':'YYMMDD'},inplace=True)\n",
    "    naver.index = naver.index.map(lambda x : x[2:4]+x[5:7]+x[8:10])\n",
    "    naver.index.names = ['YYMMDD']\n",
    "    df = pd.concat([Chartdf, Naverdf], axis=1, join_axes=[Naverdf.index])\n",
    "    # ranking 값 뒤집기\n",
    "    df.ranking = df.ranking.map(lambda x: (101-x))\n",
    "    return df"
   ]
  },
  {
   "cell_type": "code",
   "execution_count": 42,
   "metadata": {},
   "outputs": [],
   "source": [
    "if __name__=='__main__':\n",
    "    df = MergeData(Naverdf, Chartdf)"
   ]
  },
  {
   "cell_type": "code",
   "execution_count": 43,
   "metadata": {},
   "outputs": [
    {
     "data": {
      "image/png": "[encoded data removed]",
      "text/plain": [
       "<Figure size 432x288 with 1 Axes>"
      ]
     },
     "metadata": {
      "needs_background": "light"
     },
     "output_type": "display_data"
    }
   ],
   "source": [
    "df.plot()\n",
    "plt.show()"
   ]
  },
  {
   "cell_type": "code",
   "execution_count": 44,
   "metadata": {},
   "outputs": [
    {
     "data": {
      "text/html": [
       "<div>\n",
       "<style scoped>\n",
       "    .dataframe tbody tr th:only-of-type {\n",
       "        vertical-align: middle;\n",
       "    }\n",
       "\n",
       "    .dataframe tbody tr th {\n",
       "        vertical-align: top;\n",
       "    }\n",
       "\n",
       "    .dataframe thead th {\n",
       "        text-align: right;\n",
       "    }\n",
       "</style>\n",
       "<table border=\"1\" class=\"dataframe\">\n",
       "  <thead>\n",
       "    <tr style=\"text-align: right;\">\n",
       "      <th></th>\n",
       "      <th>ranking</th>\n",
       "      <th>naver</th>\n",
       "    </tr>\n",
       "  </thead>\n",
       "  <tbody>\n",
       "    <tr>\n",
       "      <th>ranking</th>\n",
       "      <td>1.000000</td>\n",
       "      <td>0.520835</td>\n",
       "    </tr>\n",
       "    <tr>\n",
       "      <th>naver</th>\n",
       "      <td>0.520835</td>\n",
       "      <td>1.000000</td>\n",
       "    </tr>\n",
       "  </tbody>\n",
       "</table>\n",
       "</div>"
      ],
      "text/plain": [
       "          ranking     naver\n",
       "ranking  1.000000  0.520835\n",
       "naver    0.520835  1.000000"
      ]
     },
     "execution_count": 44,
     "metadata": {},
     "output_type": "execute_result"
    }
   ],
   "source": [
    "df.corr(method='pearson')"
   ]
  },
  {
   "cell_type": "code",
   "execution_count": 21,
   "metadata": {},
   "outputs": [
    {
     "data": {
      "text/html": [
       "<div>\n",
       "<style scoped>\n",
       "    .dataframe tbody tr th:only-of-type {\n",
       "        vertical-align: middle;\n",
       "    }\n",
       "\n",
       "    .dataframe tbody tr th {\n",
       "        vertical-align: top;\n",
       "    }\n",
       "\n",
       "    .dataframe thead th {\n",
       "        text-align: right;\n",
       "    }\n",
       "</style>\n",
       "<table border=\"1\" class=\"dataframe\">\n",
       "  <thead>\n",
       "    <tr style=\"text-align: right;\">\n",
       "      <th></th>\n",
       "      <th>ranking</th>\n",
       "      <th>title</th>\n",
       "      <th>artist</th>\n",
       "      <th>naver</th>\n",
       "    </tr>\n",
       "    <tr>\n",
       "      <th>YYMMDD</th>\n",
       "      <th></th>\n",
       "      <th></th>\n",
       "      <th></th>\n",
       "      <th></th>\n",
       "    </tr>\n",
       "  </thead>\n",
       "  <tbody>\n",
       "    <tr>\n",
       "      <th>170701</th>\n",
       "      <td>NaN</td>\n",
       "      <td>NaN</td>\n",
       "      <td>NaN</td>\n",
       "      <td>2.29612</td>\n",
       "    </tr>\n",
       "    <tr>\n",
       "      <th>170702</th>\n",
       "      <td>NaN</td>\n",
       "      <td>NaN</td>\n",
       "      <td>NaN</td>\n",
       "      <td>5.69618</td>\n",
       "    </tr>\n",
       "    <tr>\n",
       "      <th>170703</th>\n",
       "      <td>NaN</td>\n",
       "      <td>NaN</td>\n",
       "      <td>NaN</td>\n",
       "      <td>4.20540</td>\n",
       "    </tr>\n",
       "    <tr>\n",
       "      <th>170704</th>\n",
       "      <td>NaN</td>\n",
       "      <td>NaN</td>\n",
       "      <td>NaN</td>\n",
       "      <td>3.54937</td>\n",
       "    </tr>\n",
       "    <tr>\n",
       "      <th>170705</th>\n",
       "      <td>NaN</td>\n",
       "      <td>NaN</td>\n",
       "      <td>NaN</td>\n",
       "      <td>2.87297</td>\n",
       "    </tr>\n",
       "  </tbody>\n",
       "</table>\n",
       "</div>"
      ],
      "text/plain": [
       "        ranking title artist    naver\n",
       "YYMMDD                               \n",
       "170701      NaN   NaN    NaN  2.29612\n",
       "170702      NaN   NaN    NaN  5.69618\n",
       "170703      NaN   NaN    NaN  4.20540\n",
       "170704      NaN   NaN    NaN  3.54937\n",
       "170705      NaN   NaN    NaN  2.87297"
      ]
     },
     "execution_count": 21,
     "metadata": {},
     "output_type": "execute_result"
    }
   ],
   "source": [
    "df.head()"
   ]
  },
  {
   "cell_type": "markdown",
   "metadata": {},
   "source": [
    "# 속성 추출\n",
    "1. 차트 진입후 5위 이내까지 진입한 일수\n",
    "2. 해당 곡 아티스트의 다른 곡이 차트에 진입한 일수\n",
    "3. 차트 진입 후 5위 이내까지 일간 랭킹 상승 평균치\n",
    "4. 네이버 트렌드와 음원차트의 상관계수\n",
    "5. and more..."
   ]
  },
  {
   "cell_type": "markdown",
   "metadata": {},
   "source": []
  }
 ],
 "metadata": {
  "kernelspec": {
   "display_name": "Python 3",
   "language": "python",
   "name": "python3"
  },
  "language_info": {
   "codemirror_mode": {
    "name": "ipython",
    "version": 3
   },
   "file_extension": ".py",
   "mimetype": "text/x-python",
   "name": "python",
   "nbconvert_exporter": "python",
   "pygments_lexer": "ipython3",
   "version": "3.6.7"
  }
 },
 "nbformat": 4,
 "nbformat_minor": 2
}
